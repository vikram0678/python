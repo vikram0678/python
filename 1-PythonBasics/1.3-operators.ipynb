{
 "cells": [
  {
   "cell_type": "markdown",
   "id": "579c5768",
   "metadata": {},
   "source": [
    "video outline:\n",
    "\n",
    "1. introduction to operators\n",
    "2. arithmetic operators\n",
    "    * addition\n",
    "    * subtraction\n",
    "    * multiplication\n",
    "    * division\n",
    "    * floor division\n",
    "    * modulus\n",
    "    * exponentiation\n",
    "3. comparision operators\n",
    "    * equal to \n",
    "    * not equal to\n",
    "    * greater than\n",
    "    * less than\n",
    "    * greater than or equal to\n",
    "    * less than or equal to\n",
    "4. logical operators\n",
    "    * AND\n",
    "    * OR \n",
    "    * NOT\n",
    "5. PRACTICAL EXAMPLES"
   ]
  },
  {
   "cell_type": "code",
   "execution_count": 2,
   "id": "073dab1f",
   "metadata": {},
   "outputs": [
    {
     "name": "stdout",
     "output_type": "stream",
     "text": [
      "15\n",
      "5\n",
      "50\n",
      "2.0\n",
      " floor division__: 2\n"
     ]
    }
   ],
   "source": [
    "## arthimetic operation\n",
    "a,b=10,5\n",
    "print(a+b) #addition\n",
    "print(a-b) #subtraction\n",
    "print(a*b) #multiplication\n",
    "print(a/b) #division\n",
    "print(\" floor division__:\",a//b)\n"
   ]
  },
  {
   "cell_type": "code",
   "execution_count": null,
   "id": "a59754b4",
   "metadata": {},
   "outputs": [],
   "source": []
  },
  {
   "cell_type": "code",
   "execution_count": null,
   "id": "c3ee11d5",
   "metadata": {},
   "outputs": [],
   "source": []
  }
 ],
 "metadata": {
  "kernelspec": {
   "display_name": "venv",
   "language": "python",
   "name": "python3"
  },
  "language_info": {
   "codemirror_mode": {
    "name": "ipython",
    "version": 3
   },
   "file_extension": ".py",
   "mimetype": "text/x-python",
   "name": "python",
   "nbconvert_exporter": "python",
   "pygments_lexer": "ipython3",
   "version": "3.12.0"
  }
 },
 "nbformat": 4,
 "nbformat_minor": 5
}
