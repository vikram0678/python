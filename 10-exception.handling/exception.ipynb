{
 "cells": [
  {
   "cell_type": "markdown",
   "id": "ba3685ce",
   "metadata": {},
   "source": [
    "### Understanding Exceptions\n",
    "\n",
    "Exception handling in python allows you to handle errors gracefully and take corrective actions wihtout stopping the execution of the program. This lesson will cover the basics of exceptions, including how to use try, except, else, and finally blocks\n"
   ]
  },
  {
   "cell_type": "markdown",
   "id": "170f1b83",
   "metadata": {},
   "source": [
    "### What Are Exceptions?\n",
    " Exceptions are events that disrupt the normal flow of program. They occur when a error is encountered during program execution. Common execeptions includes:\n",
    "\n",
    "\n",
    "> ZeroDivisionError: Dividing by zero.\n",
    "\n",
    "> FileNotFoundError: file not found\n",
    "\n",
    ">ValueError :Invalid  alue\n",
    "\n",
    "> TypeError: Invalid Type"
   ]
  },
  {
   "cell_type": "code",
   "execution_count": 3,
   "id": "d52437e7",
   "metadata": {},
   "outputs": [
    {
     "name": "stdout",
     "output_type": "stream",
     "text": [
      "An error occurred:\n"
     ]
    }
   ],
   "source": [
    "## Exception Try.except Block\n",
    "\n",
    "try:\n",
    "    a= b\n",
    "except :\n",
    "    print(\"An error occurred:\")"
   ]
  },
  {
   "cell_type": "code",
   "execution_count": 4,
   "id": "cbec1669",
   "metadata": {},
   "outputs": [
    {
     "name": "stdout",
     "output_type": "stream",
     "text": [
      "An error occurred: name 'b' is not defined\n"
     ]
    }
   ],
   "source": [
    "## Exception Try.except Block\n",
    "\n",
    "try:\n",
    "    a= b\n",
    "except NameError as e:\n",
    "    print(\"An error occurred:\", e)"
   ]
  },
  {
   "cell_type": "code",
   "execution_count": 6,
   "id": "dd9a75b2",
   "metadata": {},
   "outputs": [
    {
     "name": "stdout",
     "output_type": "stream",
     "text": [
      "division by zero\n",
      "please enter teh denomiator greater that zero\n"
     ]
    }
   ],
   "source": [
    "try:\n",
    "    res = 1/0\n",
    "except ZeroDivisionError as ex:\n",
    "    print(ex)\n",
    "    print(\"please enter teh denomiator greater that zero\")"
   ]
  },
  {
   "cell_type": "code",
   "execution_count": null,
   "id": "25382a60",
   "metadata": {},
   "outputs": [
    {
     "name": "stdout",
     "output_type": "stream",
     "text": [
      "an error occurred: name 'b' is not defined\n"
     ]
    }
   ],
   "source": [
    "try:\n",
    "    res = 1/2\n",
    "    a=b\n",
    "except ZeroDivisionError as ex:\n",
    "    print(ex)\n",
    "    print(\"please enter the deniominot greater than zero\")\n",
    "except Exception as e:\n",
    "    print(\"an error occurred:\", e)\n",
    "    print(\"main exception got caught here\")"
   ]
  },
  {
   "cell_type": "code",
   "execution_count": 12,
   "id": "1cee777f",
   "metadata": {},
   "outputs": [
    {
     "name": "stdout",
     "output_type": "stream",
     "text": [
      "An error occurred: division by zero\n"
     ]
    }
   ],
   "source": [
    "try: \n",
    "    num = int(input(\"Enter a number: \"))\n",
    "    res = 10 / num\n",
    "except ValueError as ve:\n",
    "    print(\"Invalid input! please enter a valid integer.\", ve)\n",
    "except  Exception as e:\n",
    "    print(\"An error occurred:\", e)"
   ]
  },
  {
   "cell_type": "code",
   "execution_count": null,
   "id": "a0004557",
   "metadata": {},
   "outputs": [
    {
     "name": "stdout",
     "output_type": "stream",
     "text": [
      "The operation was successful. Result: 1.1111111111111112\n"
     ]
    }
   ],
   "source": [
    "### try, except, else block\n",
    "\n",
    "try:\n",
    "    num = int(input(\"Enter a number:\"))\n",
    "    res = 10/ num\n",
    "except Exception as e:\n",
    "    print(\"An error occurred:\", e)\n",
    "else:    ## if exception doesnt happen the it directly execute the else block\n",
    "    print(\"The operation was successful. Result:\", res)"
   ]
  },
  {
   "cell_type": "code",
   "execution_count": 14,
   "id": "cf5e4f8a",
   "metadata": {},
   "outputs": [
    {
     "name": "stdout",
     "output_type": "stream",
     "text": [
      "The operation was successful. Result: 0.20408163265306123\n",
      "Execution completed.\n"
     ]
    }
   ],
   "source": [
    "### try, except, finally block\n",
    "### try, except, else block\n",
    "\n",
    "try:\n",
    "    num = int(input(\"Enter a number:\"))\n",
    "    res = 10/ num\n",
    "except Exception as e:\n",
    "    print(\"An error occurred:\", e)\n",
    "else:    ## if exception doesnt happen the it directly execute the else block\n",
    "    print(\"The operation was successful. Result:\", res)\n",
    "finally:\n",
    "    print(\"Execution completed.\")"
   ]
  },
  {
   "cell_type": "code",
   "execution_count": 16,
   "id": "58e758b2",
   "metadata": {},
   "outputs": [
    {
     "name": "stdout",
     "output_type": "stream",
     "text": [
      "file not found errr: [Errno 2] No such file or directory: 'example.txt'\n"
     ]
    }
   ],
   "source": [
    "### File handlig and Exception handling\n",
    "\n",
    "try:\n",
    "    file = open(\"example.txt\", \"r\")\n",
    "    content = file.read()\n",
    "    print(content)\n",
    "except FileNotFoundError as fnf_error:\n",
    "    print(\"file not found errr:\", fnf_error)\n",
    "except Exception as e:\n",
    "    print(\"An error occurred:\", e)\n",
    "finally:\n",
    "    if 'file' in locals():\n",
    "        file.close()\n",
    "        print(\"File closed.\")"
   ]
  },
  {
   "cell_type": "code",
   "execution_count": null,
   "id": "228699bd",
   "metadata": {},
   "outputs": [],
   "source": []
  }
 ],
 "metadata": {
  "kernelspec": {
   "display_name": "venv",
   "language": "python",
   "name": "python3"
  },
  "language_info": {
   "codemirror_mode": {
    "name": "ipython",
    "version": 3
   },
   "file_extension": ".py",
   "mimetype": "text/x-python",
   "name": "python",
   "nbconvert_exporter": "python",
   "pygments_lexer": "ipython3",
   "version": "3.12.0"
  }
 },
 "nbformat": 4,
 "nbformat_minor": 5
}
