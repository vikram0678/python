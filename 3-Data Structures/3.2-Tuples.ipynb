{
 "cells": [
  {
   "cell_type": "markdown",
   "id": "ec6163ed",
   "metadata": {},
   "source": [
    "1. Introduction to Tuples\n",
    "2. Creating Tuples\n",
    "3. Accessing Tuple Elements\n",
    "4. Tuple Operations\n",
    "5. immutable nature of Tuples\n",
    "6. Tuple Methods\n",
    "7. Tuple Unpacking\n",
    "8. Nested Tuples"
   ]
  },
  {
   "cell_type": "markdown",
   "id": "1d79e4ab",
   "metadata": {},
   "source": [
    "## Introduction \n",
    "explanation:\n",
    "Tuples are ordered collections of items that are immutable. They are similar to lists, But their immutability makes them different\n",
    "\n",
    "tpl=()\n",
    "print(tpl)\n",
    "print(type(tpl))"
   ]
  },
  {
   "cell_type": "code",
   "execution_count": 5,
   "id": "4121d05d",
   "metadata": {},
   "outputs": [
    {
     "name": "stdout",
     "output_type": "stream",
     "text": [
      "()\n",
      "<class 'tuple'>\n"
     ]
    }
   ],
   "source": [
    "tpl=()\n",
    "print(tpl)\n",
    "print(type(tpl))"
   ]
  },
  {
   "cell_type": "code",
   "execution_count": 6,
   "id": "27ed3473",
   "metadata": {},
   "outputs": [
    {
     "name": "stdout",
     "output_type": "stream",
     "text": [
      "<class 'list'>\n",
      "<class 'tuple'>\n"
     ]
    }
   ],
   "source": [
    "ls=list()\n",
    "print(type(ls))\n",
    "tpl=tuple()\n",
    "print(type(tpl))"
   ]
  },
  {
   "cell_type": "code",
   "execution_count": 10,
   "id": "a4cd2a37",
   "metadata": {},
   "outputs": [
    {
     "name": "stdout",
     "output_type": "stream",
     "text": [
      "(1, 2, 3, 4)\n",
      "[1, 2, 3, 4]\n"
     ]
    }
   ],
   "source": [
    "numbers =tuple([1,2,3,4])\n",
    "print(numbers)  \n",
    "ls=list(numbers)\n",
    "print(ls)"
   ]
  },
  {
   "cell_type": "code",
   "execution_count": 12,
   "id": "8f6a711f",
   "metadata": {},
   "outputs": [
    {
     "data": {
      "text/plain": [
       "(1, 2, 3, 4)"
      ]
     },
     "execution_count": 12,
     "metadata": {},
     "output_type": "execute_result"
    }
   ],
   "source": [
    "## accessing tuple elements\n",
    "\n",
    "numbers"
   ]
  },
  {
   "cell_type": "code",
   "execution_count": 13,
   "id": "95c4cea9",
   "metadata": {},
   "outputs": [
    {
     "name": "stdout",
     "output_type": "stream",
     "text": [
      "3\n"
     ]
    }
   ],
   "source": [
    "print(numbers[2])"
   ]
  },
  {
   "cell_type": "code",
   "execution_count": 14,
   "id": "2c7b060f",
   "metadata": {},
   "outputs": [
    {
     "name": "stdout",
     "output_type": "stream",
     "text": [
      "(4, 3, 2, 1)\n"
     ]
    }
   ],
   "source": [
    "print(numbers[::-1])"
   ]
  },
  {
   "cell_type": "code",
   "execution_count": 21,
   "id": "7005bf4a",
   "metadata": {},
   "outputs": [
    {
     "data": {
      "text/plain": [
       "(1, 2, 3, 4, 'hello')"
      ]
     },
     "execution_count": 21,
     "metadata": {},
     "output_type": "execute_result"
    }
   ],
   "source": [
    "## Tuple Operations\n",
    "\n",
    "mixednumbers=numbers+tuple([\"hello\"])\n",
    "mixednumbers"
   ]
  },
  {
   "cell_type": "code",
   "execution_count": 22,
   "id": "96f9bf0b",
   "metadata": {},
   "outputs": [
    {
     "data": {
      "text/plain": [
       "(1, 2, 3, 4, 'hello', 1, 2, 3, 4, 'hello', 1, 2, 3, 4, 'hello')"
      ]
     },
     "execution_count": 22,
     "metadata": {},
     "output_type": "execute_result"
    }
   ],
   "source": [
    "mixednumbers*3"
   ]
  },
  {
   "cell_type": "code",
   "execution_count": 25,
   "id": "01298c36",
   "metadata": {},
   "outputs": [
    {
     "name": "stdout",
     "output_type": "stream",
     "text": [
      "[1, 2, 3, 4]\n",
      "(1, 2, 3, 4)\n"
     ]
    }
   ],
   "source": [
    "## immutable nature of tuples\n",
    "## Tuple are immutable , meaning their elememt cannot be chaged once assigned\n",
    "\n",
    "ls=[1,2,3,4]\n",
    "print(ls)\n",
    "tpl=(numbers)\n",
    "print(tpl)"
   ]
  },
  {
   "cell_type": "code",
   "execution_count": 27,
   "id": "bf3c8b7e",
   "metadata": {},
   "outputs": [
    {
     "name": "stdout",
     "output_type": "stream",
     "text": [
      "[1000, 2, 3, 4]\n"
     ]
    }
   ],
   "source": [
    "ls[0]=1000\n",
    "print(ls)"
   ]
  },
  {
   "cell_type": "code",
   "execution_count": 28,
   "id": "c32871bf",
   "metadata": {},
   "outputs": [
    {
     "ename": "TypeError",
     "evalue": "'tuple' object does not support item assignment",
     "output_type": "error",
     "traceback": [
      "\u001b[31m---------------------------------------------------------------------------\u001b[39m",
      "\u001b[31mTypeError\u001b[39m                                 Traceback (most recent call last)",
      "\u001b[36mCell\u001b[39m\u001b[36m \u001b[39m\u001b[32mIn[28]\u001b[39m\u001b[32m, line 1\u001b[39m\n\u001b[32m----> \u001b[39m\u001b[32m1\u001b[39m \u001b[43mtpl\u001b[49m\u001b[43m[\u001b[49m\u001b[32;43m0\u001b[39;49m\u001b[43m]\u001b[49m=\u001b[32m101\u001b[39m\n",
      "\u001b[31mTypeError\u001b[39m: 'tuple' object does not support item assignment"
     ]
    }
   ],
   "source": [
    "tpl[0]=101"
   ]
  },
  {
   "cell_type": "code",
   "execution_count": 37,
   "id": "3079ad9c",
   "metadata": {},
   "outputs": [
    {
     "name": "stdout",
     "output_type": "stream",
     "text": [
      "(1, 2, 3, 4)\n",
      "1\n",
      "3\n"
     ]
    }
   ],
   "source": [
    "## Tuple methods\n",
    "print(numbers)\n",
    "print(numbers.count(1))\n",
    "print(numbers.index(4)) ## index(value)"
   ]
  },
  {
   "cell_type": "code",
   "execution_count": null,
   "id": "b384ed90",
   "metadata": {},
   "outputs": [
    {
     "name": "stdout",
     "output_type": "stream",
     "text": [
      "(1, 'whsup', 2.14)\n"
     ]
    }
   ],
   "source": [
    "## packing and Unpacking tuple\n",
    "## packing\n",
    "\n",
    "\n",
    "\n",
    "packed=1,'whsup',2.14\n",
    "\n",
    "\n",
    "\n",
    "\n",
    "print(packed)"
   ]
  },
  {
   "cell_type": "code",
   "execution_count": 43,
   "id": "2ebb0d5e",
   "metadata": {},
   "outputs": [
    {
     "name": "stdout",
     "output_type": "stream",
     "text": [
      "1 whsup 2.14\n"
     ]
    }
   ],
   "source": [
    "a,b,c=packed_tuple\n",
    "print(a,b,c)"
   ]
  },
  {
   "cell_type": "code",
   "execution_count": 44,
   "id": "bad9b15c",
   "metadata": {},
   "outputs": [
    {
     "name": "stdout",
     "output_type": "stream",
     "text": [
      "1\n",
      "[2, 3, 4, 5]\n",
      "6\n"
     ]
    }
   ],
   "source": [
    "## unpacking with *(start)\n",
    "\n",
    "numbers=(1,2,3,4,5,6)\n",
    "first,*middle,last=numbers\n",
    "print(first)\n",
    "print(middle)\n",
    "print(last)"
   ]
  },
  {
   "cell_type": "code",
   "execution_count": 49,
   "id": "b0b7ae9d",
   "metadata": {},
   "outputs": [
    {
     "name": "stdout",
     "output_type": "stream",
     "text": [
      "[[1, 2, 3, 4], [6, 7, 8, 9], (1, 'hello', 'whatsup')]\n",
      "[1, 2, 3, 4]\n",
      "tuple inside list :   (1, 'hello', 'whatsup')\n"
     ]
    }
   ],
   "source": [
    "## nested Tuples\n",
    "\n",
    "ls=[[1,2,3,4],[6,7,8,9],(1,'hello','whatsup')]\n",
    "print(ls)\n",
    "print(ls[0][:])\n",
    "print('tuple inside list :  ',ls[2][:])"
   ]
  },
  {
   "cell_type": "code",
   "execution_count": 50,
   "id": "e79148cf",
   "metadata": {},
   "outputs": [
    {
     "data": {
      "text/plain": [
       "([1, 2, 3, 4], [6, 7, 8, 9], (1, 'hello', 'whatsup'))"
      ]
     },
     "execution_count": 50,
     "metadata": {},
     "output_type": "execute_result"
    }
   ],
   "source": [
    "numbers=tuple(ls)\n",
    "numbers"
   ]
  },
  {
   "cell_type": "code",
   "execution_count": 58,
   "id": "b569445c",
   "metadata": {},
   "outputs": [
    {
     "name": "stdout",
     "output_type": "stream",
     "text": [
      "((1, 2, 3), ('a', 'b', 2.14), (True, False))\n",
      "(1, 2, 3)\n"
     ]
    }
   ],
   "source": [
    "nested_tuples=((1,2,3),('a','b',c),(True,False))\n",
    "print(nested_tuples)\n",
    "\n",
    "print(nested_tuples[0])"
   ]
  },
  {
   "cell_type": "code",
   "execution_count": 61,
   "id": "b97686c8",
   "metadata": {},
   "outputs": [
    {
     "name": "stdout",
     "output_type": "stream",
     "text": [
      "1_2_3_\n",
      "a_b_2.14_\n",
      "True_False_\n"
     ]
    }
   ],
   "source": [
    "## iterating over nested Tuples\n",
    "\n",
    "for sub_tuples in nested_tuples:\n",
    "    for item in sub_tuples:\n",
    "        print(item,end=\"_\")\n",
    "    print()"
   ]
  },
  {
   "cell_type": "markdown",
   "id": "35560868",
   "metadata": {},
   "source": [
    "## Conclusion\n",
    "\n",
    "Tuples are versatile and useful in many real-world scenarios where an immutable and ordered collecton of items is required. They are commonly used in data Structures, function arguments and return values, and as dictionary keys. Understanding how to leverage tuples effectively can improve the effectively and readability of your python code.\n"
   ]
  }
 ],
 "metadata": {
  "kernelspec": {
   "display_name": "venv",
   "language": "python",
   "name": "python3"
  },
  "language_info": {
   "codemirror_mode": {
    "name": "ipython",
    "version": 3
   },
   "file_extension": ".py",
   "mimetype": "text/x-python",
   "name": "python",
   "nbconvert_exporter": "python",
   "pygments_lexer": "ipython3",
   "version": "3.12.0"
  }
 },
 "nbformat": 4,
 "nbformat_minor": 5
}
