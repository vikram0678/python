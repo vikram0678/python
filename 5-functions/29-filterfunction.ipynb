{
 "cells": [
  {
   "cell_type": "markdown",
   "id": "dade04df",
   "metadata": {},
   "source": [
    "### The filter() function in Python\n",
    "\n",
    "The filter() function constructs an iterator from elements of an iterable for which a function returns true. It is used to filter out items from a list (or any other iterable) based on a condition."
   ]
  },
  {
   "cell_type": "code",
   "execution_count": 4,
   "id": "69a193fa",
   "metadata": {},
   "outputs": [
    {
     "data": {
      "text/plain": [
       "True"
      ]
     },
     "execution_count": 4,
     "metadata": {},
     "output_type": "execute_result"
    }
   ],
   "source": [
    "def even(num):\n",
    "    if num %2 ==0:\n",
    "        return True\n",
    "even(24)"
   ]
  },
  {
   "cell_type": "code",
   "execution_count": 7,
   "id": "984bc6e4",
   "metadata": {},
   "outputs": [
    {
     "data": {
      "text/plain": [
       "[2, 4, 6, 8, 10, 12]"
      ]
     },
     "execution_count": 7,
     "metadata": {},
     "output_type": "execute_result"
    }
   ],
   "source": [
    "lst = [1,2,3,4,5,6,7,8,9,10,11,12]\n",
    "\n",
    "list(filter(even,lst))"
   ]
  },
  {
   "cell_type": "code",
   "execution_count": 11,
   "id": "4f2677ff",
   "metadata": {},
   "outputs": [
    {
     "data": {
      "text/plain": [
       "[6, 7, 8, 9]"
      ]
     },
     "execution_count": 11,
     "metadata": {},
     "output_type": "execute_result"
    }
   ],
   "source": [
    "## filter with a lambda functions\n",
    "numbers = [1,2,3,4,5,6,7,8,9]\n",
    "greater_than_five=list(filter(lambda x:x>5, numbers))\n",
    "greater_than_five"
   ]
  },
  {
   "cell_type": "code",
   "execution_count": 13,
   "id": "9a7c04bb",
   "metadata": {},
   "outputs": [
    {
     "data": {
      "text/plain": [
       "[6, 8]"
      ]
     },
     "execution_count": 13,
     "metadata": {},
     "output_type": "execute_result"
    }
   ],
   "source": [
    "## Filter with a lambda functions and multiple conditions\n",
    "numbers = [1,2,3,4,5,6,7,8,9]\n",
    "even_and_greater_than_five =list(filter(lambda x:x>5 and x%2 ==0, numbers))\n",
    "even_and_greater_than_five"
   ]
  },
  {
   "cell_type": "code",
   "execution_count": 15,
   "id": "ca9c0808",
   "metadata": {},
   "outputs": [
    {
     "data": {
      "text/plain": [
       "[{'name': 'krish', 'age': 32}, {'name': 'jack', 'age': 33}]"
      ]
     },
     "execution_count": 15,
     "metadata": {},
     "output_type": "execute_result"
    }
   ],
   "source": [
    "## Filter() to check if the age is greater thatn 235 in dictionaries\n",
    "\n",
    "\n",
    "people=[\n",
    "    {'name':'krish','age':32},\n",
    "    {'name':'jack','age':33},\n",
    "    {'name':'john','age':2},\n",
    "    {'name':'alice','age':-1}\n",
    "]\n",
    "\n",
    "def age_greater_than_25(person):\n",
    "    return person['age']>25\n",
    "\n",
    "list(filter(age_greater_than_25, people))"
   ]
  },
  {
   "cell_type": "markdown",
   "id": "57e1b826",
   "metadata": {},
   "source": [
    "### Conclusion\n",
    "The filter() filter is a powerful tool for creating iterations that filter items out of an iterable based on a functions. It is commonly used for data cleaning, filtering objects, and removing unwanted elements from list. By mastering filter(), you can write more concise and efficient code for processing and manipulating collections in python."
   ]
  },
  {
   "cell_type": "markdown",
   "id": "0d1e0a19",
   "metadata": {},
   "source": []
  }
 ],
 "metadata": {
  "kernelspec": {
   "display_name": "venv",
   "language": "python",
   "name": "python3"
  },
  "language_info": {
   "codemirror_mode": {
    "name": "ipython",
    "version": 3
   },
   "file_extension": ".py",
   "mimetype": "text/x-python",
   "name": "python",
   "nbconvert_exporter": "python",
   "pygments_lexer": "ipython3",
   "version": "3.12.0"
  }
 },
 "nbformat": 4,
 "nbformat_minor": 5
}
