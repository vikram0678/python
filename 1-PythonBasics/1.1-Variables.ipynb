{
 "cells": [
  {
   "cell_type": "markdown",
   "id": "9f3eccf3",
   "metadata": {},
   "source": [
    "03-06-2025"
   ]
  },
  {
   "cell_type": "markdown",
   "id": "5111d239",
   "metadata": {},
   "source": [
    "Variables are fundamental elements in programming used to store data that can be refereced and manipulated in a program. In Python, variables are created when you assign a value to them, and they do not need explicit declaration to reserve memory space. The declaration happens automatically when you assign a value to a variable.\n",
    "\n",
    "Video Outline:\n",
    "1. Introduction to Variables\n",
    "2. declaring and assigning variables\n",
    "3. naming conventions\n",
    "4. understanding variable Types\n",
    "5. type checking and conversion\n",
    "6. dynamic typing \n",
    "7. practical examples and common errors\n",
    ">\n",
    "\n",
    "\n",
    "1. Introduction to Variables\n",
    "2. Declaring Variables\n",
    "3. Assigning Values to Variables\n",
    "4. Data Types\n",
    "5. Variable Naming Conventions\n",
    "6. Variable Scope\n",
    "7. Conclusion\n",
    "\n",
    "\n",
    "\n"
   ]
  },
  {
   "cell_type": "code",
   "execution_count": 3,
   "id": "7d251075",
   "metadata": {},
   "outputs": [],
   "source": [
    "# naming conventions\n",
    "\n",
    "## Variable names shoudl be desriptive\n",
    "######################### Use underscore to separate words in variable names\n",
    "# They must start with a letter or an '_' and contain letter, numbers and undersscores\n",
    "#variables names are case sensitives \n",
    "\n",
    "# Do not use special characters in variable names\n",
    "\n",
    "firstName=\"vikram\"\n",
    "lastName=\"nandimanalma\""
   ]
  },
  {
   "cell_type": "code",
   "execution_count": null,
   "id": "7358cdbe",
   "metadata": {},
   "outputs": [
    {
     "ename": "SyntaxError",
     "evalue": "cannot assign to expression here. Maybe you meant '==' instead of '='? (1568545367.py, line 3)",
     "output_type": "error",
     "traceback": [
      "  \u001b[36mCell\u001b[39m\u001b[36m \u001b[39m\u001b[32mIn[5]\u001b[39m\u001b[32m, line 3\u001b[39m\n\u001b[31m    \u001b[39m\u001b[31mfirst-name=\" vikram\"\u001b[39m\n    ^\n\u001b[31mSyntaxError\u001b[39m\u001b[31m:\u001b[39m cannot assign to expression here. Maybe you meant '==' instead of '='?\n"
     ]
    }
   ],
   "source": [
    "# invalid variables names\n",
    "#2age=30\n",
    "# first-name=\" vikram\"\n",
    "#@name=\" virkam\"\n"
   ]
  },
  {
   "cell_type": "code",
   "execution_count": 2,
   "id": "a9b1d200",
   "metadata": {},
   "outputs": [
    {
     "data": {
      "text/plain": [
       "' __vikram'"
      ]
     },
     "execution_count": 2,
     "metadata": {},
     "output_type": "execute_result"
    }
   ],
   "source": [
    "#case sensititvity\n",
    "name=' vikram'\n",
    "Name=' __vikram'\n",
    "Name"
   ]
  },
  {
   "cell_type": "code",
   "execution_count": null,
   "id": "944ce053",
   "metadata": {},
   "outputs": [],
   "source": [
    "#understanding variable types\n",
    "## python is dynamically typed, type of a varaible is determined at runtime\n",
    " "
   ]
  },
  {
   "cell_type": "code",
   "execution_count": 10,
   "id": "9d0f4846",
   "metadata": {},
   "outputs": [
    {
     "name": "stdout",
     "output_type": "stream",
     "text": [
      "<class 'int'>\n",
      "<class 'str'>\n"
     ]
    }
   ],
   "source": [
    "## type checking and conversion\n",
    "age=25\n",
    "print(type(age))\n",
    "age_str=str(age)\n",
    "print(type(age_str))"
   ]
  },
  {
   "cell_type": "code",
   "execution_count": 11,
   "id": "7b08dd36",
   "metadata": {},
   "outputs": [
    {
     "name": "stdout",
     "output_type": "stream",
     "text": [
      "<class 'int'>\n"
     ]
    }
   ],
   "source": [
    "age='25'\n",
    "print(type(int(age)))"
   ]
  },
  {
   "cell_type": "code",
   "execution_count": null,
   "id": "2fc654cf",
   "metadata": {},
   "outputs": [
    {
     "data": {
      "text/plain": [
       "5.0"
      ]
     },
     "execution_count": 13,
     "metadata": {},
     "output_type": "execute_result"
    }
   ],
   "source": [
    "height=5.11\n",
    "type(height)\n"
   ]
  },
  {
   "cell_type": "code",
   "execution_count": 15,
   "id": "b5f010e7",
   "metadata": {},
   "outputs": [
    {
     "data": {
      "text/plain": [
       "5"
      ]
     },
     "execution_count": 15,
     "metadata": {},
     "output_type": "execute_result"
    }
   ],
   "source": [
    "float(int(height))\n",
    "int(height)"
   ]
  },
  {
   "cell_type": "code",
   "execution_count": 18,
   "id": "3043b909",
   "metadata": {},
   "outputs": [
    {
     "name": "stdout",
     "output_type": "stream",
     "text": [
      "10 <class 'int'>\n",
      "hello <class 'str'>\n",
      "1.1 <class 'float'>\n"
     ]
    }
   ],
   "source": [
    "## dynamic typing \n",
    "## python allows the type of a vaiable to change as the progrgam execut\n",
    "\n",
    "var=10\n",
    "print(var, type(var))\n",
    "var='hello'\n",
    "print(var, type(var))\n",
    "\n",
    "var=1.1\n",
    "print(var, type(var))\n"
   ]
  },
  {
   "cell_type": "code",
   "execution_count": 19,
   "id": "e4eca84d",
   "metadata": {},
   "outputs": [
    {
     "name": "stdout",
     "output_type": "stream",
     "text": [
      "18\n"
     ]
    }
   ],
   "source": [
    "##input\n",
    "age=input(\"engeer age\")\n",
    "print(age)"
   ]
  },
  {
   "cell_type": "code",
   "execution_count": null,
   "id": "1a21f884",
   "metadata": {},
   "outputs": [],
   "source": []
  }
 ],
 "metadata": {
  "kernelspec": {
   "display_name": "venv",
   "language": "python",
   "name": "python3"
  },
  "language_info": {
   "codemirror_mode": {
    "name": "ipython",
    "version": 3
   },
   "file_extension": ".py",
   "mimetype": "text/x-python",
   "name": "python",
   "nbconvert_exporter": "python",
   "pygments_lexer": "ipython3",
   "version": "3.12.0"
  }
 },
 "nbformat": 4,
 "nbformat_minor": 5
}
