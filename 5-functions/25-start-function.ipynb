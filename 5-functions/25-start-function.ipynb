{
 "cells": [
  {
   "cell_type": "markdown",
   "id": "9bfb815b",
   "metadata": {},
   "source": [
    "## Functions in Python\n",
    "video outline:\n",
    "1. Introduction to Functions\n",
    "2. Defining Functions\n",
    "3. Calling Functions\n",
    "4. Function Parameters\n",
    "5. Default Parameters\n",
    "6. Variable-Length Arguments\n",
    "7. Return Statement\n"
   ]
  },
  {
   "cell_type": "markdown",
   "id": "40738a28",
   "metadata": {},
   "source": [
    "## Introduction to Functions\n",
    "\n",
    "Defination:\n",
    "\n",
    "A function is a block of code that performs a specific task. Functions help in organazing code, reusing code, and improving readability.\n"
   ]
  },
  {
   "cell_type": "code",
   "execution_count": 1,
   "id": "5aed31a6",
   "metadata": {},
   "outputs": [],
   "source": [
    "def function_name(parameters):\n",
    "    \"Doc String\"\n",
    "    # Function body\n",
    "    return expression"
   ]
  },
  {
   "cell_type": "code",
   "execution_count": 2,
   "id": "5f5a94fe",
   "metadata": {},
   "outputs": [
    {
     "name": "stdout",
     "output_type": "stream",
     "text": [
      "the number is even\n"
     ]
    }
   ],
   "source": [
    "## why functions\n",
    "num = 24\n",
    "if num%2 ==0:\n",
    "    print(\"the number is even\")\n",
    "else:\n",
    "    print(\"the number is odd\")\n"
   ]
  },
  {
   "cell_type": "code",
   "execution_count": 4,
   "id": "8b793113",
   "metadata": {},
   "outputs": [],
   "source": [
    "def even_or_odd(num):\n",
    "    \"\"\"This function performs even or odd\"\"\"\n",
    "    if num % 2 == 0:\n",
    "        print(\"the number is even\")\n",
    "    else:\n",
    "        print(\" the number is odd\")"
   ]
  },
  {
   "cell_type": "code",
   "execution_count": 5,
   "id": "0c1bd23f",
   "metadata": {},
   "outputs": [
    {
     "name": "stdout",
     "output_type": "stream",
     "text": [
      " the number is odd\n"
     ]
    }
   ],
   "source": [
    "## call this function\n",
    "\n",
    "even_or_odd(5)"
   ]
  },
  {
   "cell_type": "code",
   "execution_count": 10,
   "id": "086d3686",
   "metadata": {},
   "outputs": [
    {
     "name": "stdout",
     "output_type": "stream",
     "text": [
      "6\n"
     ]
    }
   ],
   "source": [
    "## function with multiple parameters\n",
    "\n",
    "def add(a,b):\n",
    "    c=a+b\n",
    "    return c\n",
    "\n",
    "result = add(2,4)\n",
    "print(result)"
   ]
  },
  {
   "cell_type": "code",
   "execution_count": 12,
   "id": "797fb083",
   "metadata": {},
   "outputs": [
    {
     "name": "stdout",
     "output_type": "stream",
     "text": [
      "Helo Krish welcome to the paradie\n"
     ]
    }
   ],
   "source": [
    "## default Paramenters\n",
    "\n",
    "def greet(name=\"Guest\"):\n",
    "    print(f\"Helo {name} welcome to the paradie\")\n",
    "\n",
    "greet(\"Krish\")"
   ]
  },
  {
   "cell_type": "code",
   "execution_count": 15,
   "id": "af4c50cf",
   "metadata": {},
   "outputs": [
    {
     "name": "stdout",
     "output_type": "stream",
     "text": [
      "1\n",
      "11\n",
      "22\n",
      "3\n",
      "341\n",
      "34\n",
      "2\n",
      "vicky\n"
     ]
    }
   ],
   "source": [
    "### variable length Arguments\n",
    "### positional and Keyword arguments\n",
    "\n",
    "def print_numbers(*args):\n",
    "    for num in args:\n",
    "        print(num)\n",
    "\n",
    "print_numbers(1,11,22,3,341,34,2,\"vicky\")"
   ]
  },
  {
   "cell_type": "code",
   "execution_count": 16,
   "id": "f398fafc",
   "metadata": {},
   "outputs": [
    {
     "name": "stdout",
     "output_type": "stream",
     "text": [
      "name:vicky\n",
      "age:32\n",
      "country:india\n"
     ]
    }
   ],
   "source": [
    "### keyword arguments\n",
    "\n",
    "def print_default(**kwargs):  # keyword argument(kwargs)\n",
    "    for key, value in kwargs.items():\n",
    "        print(f\"{key}:{value}\")\n",
    "\n",
    "print_default(name=\"vicky\", age= 32, country=\"india\")"
   ]
  },
  {
   "cell_type": "code",
   "execution_count": 20,
   "id": "3bd39e1c",
   "metadata": {},
   "outputs": [
    {
     "name": "stdout",
     "output_type": "stream",
     "text": [
      "position argument : 11\n",
      "position argument : 1\n",
      "position argument : 2\n",
      "position argument : vicky\n",
      "name:vicky\n",
      "age:32\n",
      "country:india\n"
     ]
    }
   ],
   "source": [
    "def print_default(*args, **kwargs):  # keyword argument(kwargs)\n",
    "    for val in args:\n",
    "        print(f\"position argument : {val}\")\n",
    "    for key, value in kwargs.items():\n",
    "        print(f\"{key}:{value}\")\n",
    "\n",
    "print_default(11,1,2,\"vicky\" ,name=\"vicky\", age= 32, country=\"india\")"
   ]
  },
  {
   "cell_type": "code",
   "execution_count": 21,
   "id": "06971be4",
   "metadata": {},
   "outputs": [
    {
     "name": "stdout",
     "output_type": "stream",
     "text": [
      "(6, 2)\n"
     ]
    }
   ],
   "source": [
    "### Return  multiple parameters\n",
    "def multiply(a, b):\n",
    "    return a*b, a\n",
    "\n",
    "print(multiply(2,3))"
   ]
  },
  {
   "cell_type": "code",
   "execution_count": null,
   "id": "21707503",
   "metadata": {},
   "outputs": [],
   "source": []
  }
 ],
 "metadata": {
  "kernelspec": {
   "display_name": "venv",
   "language": "python",
   "name": "python3"
  },
  "language_info": {
   "codemirror_mode": {
    "name": "ipython",
    "version": 3
   },
   "file_extension": ".py",
   "mimetype": "text/x-python",
   "name": "python",
   "nbconvert_exporter": "python",
   "pygments_lexer": "ipython3",
   "version": "3.12.0"
  }
 },
 "nbformat": 4,
 "nbformat_minor": 5
}
