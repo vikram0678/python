{
 "cells": [
  {
   "cell_type": "markdown",
   "id": "841634b8",
   "metadata": {},
   "source": [
    "Data Types:\n",
    "* `string`: A string value.\n",
    "1. Definition:\n",
    "    * data types are a classification of data which tell teh compiler or interpreter hwo the programmer intends to use the data.\n",
    "    * They determine the type of operatoin that can be performed on the data, the values the the data can take, and the amount of memory needed to store the data\n",
    "2. Importance of data types in programming\n",
    "    Explanation:\n",
    "    *  data types ensure that data is stored in an efficient way.\n",
    "    * they helop in performing correcct operation  \n",
    "    * proper use of data types can prevent erros and bugs in the program.\n",
    "\n",
    "\n",
    "video outline:\n",
    "1. Introduction to data types\n",
    "2. importance of data types in programming\n",
    "3. basic data types\n",
    "    1. integer\n",
    "    2. float\n",
    "    3. string\n",
    "    4. boolean\n",
    "4. advanced data types\n",
    "    1. lists\n",
    "    2. dictionaries\n",
    "    3. tuples\n",
    "    4. sets\n",
    "5. type conversion\n",
    "6. practical "
   ]
  },
  {
   "cell_type": "code",
   "execution_count": 3,
   "id": "cf6f2701",
   "metadata": {},
   "outputs": [
    {
     "data": {
      "text/plain": [
       "int"
      ]
     },
     "execution_count": 3,
     "metadata": {},
     "output_type": "execute_result"
    }
   ],
   "source": [
    "## integer example\n",
    "age=30\n",
    "type(age)"
   ]
  },
  {
   "cell_type": "code",
   "execution_count": 4,
   "id": "22240d89",
   "metadata": {},
   "outputs": [
    {
     "data": {
      "text/plain": [
       "float"
      ]
     },
     "execution_count": 4,
     "metadata": {},
     "output_type": "execute_result"
    }
   ],
   "source": [
    "##floating poinnt datatype\n",
    "width=12.2\n",
    "type(width)"
   ]
  },
  {
   "cell_type": "code",
   "execution_count": 5,
   "id": "19eddc51",
   "metadata": {},
   "outputs": [
    {
     "data": {
      "text/plain": [
       "str"
      ]
     },
     "execution_count": 5,
     "metadata": {},
     "output_type": "execute_result"
    }
   ],
   "source": [
    "# String datatypes example\n",
    "nam='vicky'\n",
    "type(nam)"
   ]
  },
  {
   "cell_type": "code",
   "execution_count": 6,
   "id": "f171435d",
   "metadata": {},
   "outputs": [
    {
     "data": {
      "text/plain": [
       "bool"
      ]
     },
     "execution_count": 6,
     "metadata": {},
     "output_type": "execute_result"
    }
   ],
   "source": [
    "type(True)"
   ]
  },
  {
   "cell_type": "code",
   "execution_count": 10,
   "id": "42947489",
   "metadata": {},
   "outputs": [
    {
     "data": {
      "text/plain": [
       "bool"
      ]
     },
     "execution_count": 10,
     "metadata": {},
     "output_type": "execute_result"
    }
   ],
   "source": [
    "a=10\n",
    "b=20\n",
    "type(a==10)"
   ]
  },
  {
   "cell_type": "code",
   "execution_count": 12,
   "id": "be07c4a3",
   "metadata": {},
   "outputs": [
    {
     "ename": "TypeError",
     "evalue": "can only concatenate str (not \"int\") to str",
     "output_type": "error",
     "traceback": [
      "\u001b[31m---------------------------------------------------------------------------\u001b[39m",
      "\u001b[31mTypeError\u001b[39m                                 Traceback (most recent call last)",
      "\u001b[36mCell\u001b[39m\u001b[36m \u001b[39m\u001b[32mIn[12]\u001b[39m\u001b[32m, line 2\u001b[39m\n\u001b[32m      1\u001b[39m \u001b[38;5;66;03m##common erros\u001b[39;00m\n\u001b[32m----> \u001b[39m\u001b[32m2\u001b[39m res=\u001b[33;43m'\u001b[39;49m\u001b[33;43mhelo\u001b[39;49m\u001b[33;43m'\u001b[39;49m\u001b[43m+\u001b[49m\u001b[32;43m5\u001b[39;49m\n",
      "\u001b[31mTypeError\u001b[39m: can only concatenate str (not \"int\") to str"
     ]
    }
   ],
   "source": [
    "##common erros\n",
    "res='helo'+5"
   ]
  },
  {
   "cell_type": "code",
   "execution_count": 14,
   "id": "9472b266",
   "metadata": {},
   "outputs": [
    {
     "name": "stdout",
     "output_type": "stream",
     "text": [
      "helo5\n"
     ]
    }
   ],
   "source": [
    "res='helo'+str(5)\n",
    "print(res)"
   ]
  },
  {
   "cell_type": "code",
   "execution_count": null,
   "id": "b4af5b9b",
   "metadata": {},
   "outputs": [],
   "source": []
  },
  {
   "cell_type": "code",
   "execution_count": null,
   "id": "e5871b37",
   "metadata": {},
   "outputs": [],
   "source": []
  }
 ],
 "metadata": {
  "kernelspec": {
   "display_name": "venv",
   "language": "python",
   "name": "python3"
  },
  "language_info": {
   "codemirror_mode": {
    "name": "ipython",
    "version": 3
   },
   "file_extension": ".py",
   "mimetype": "text/x-python",
   "name": "python",
   "nbconvert_exporter": "python",
   "pygments_lexer": "ipython3",
   "version": "3.12.0"
  }
 },
 "nbformat": 4,
 "nbformat_minor": 5
}
