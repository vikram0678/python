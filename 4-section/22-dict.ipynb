{
 "cells": [
  {
   "cell_type": "markdown",
   "id": "7c2c728e",
   "metadata": {},
   "source": [
    "## Dictionaries \n",
    "video outline:\n",
    "1. introduction\n",
    "2. creating Dictionaries\n",
    "3. Accessing Dictionary Elements\n",
    "4. modifying Dictionary elements\n",
    "5. Iterating over dictionaries\n",
    "6. nested dictionaries\n",
    "7. dictionary comprehensions\n",
    "8. practical examples and common errors\n"
   ]
  },
  {
   "cell_type": "markdown",
   "id": "07feff48",
   "metadata": {},
   "source": [
    "# introduction to dictionaries \n",
    "\n",
    "Dictionaries are undered collections of item. They store data in key value pairs. keys must be unique and immutable(eg.. strings, numbers, or tuples), while values can be of any type."
   ]
  },
  {
   "cell_type": "code",
   "execution_count": 3,
   "id": "7ef551b6",
   "metadata": {},
   "outputs": [
    {
     "name": "stdout",
     "output_type": "stream",
     "text": [
      "<class 'dict'>\n"
     ]
    }
   ],
   "source": [
    "## creating dictionaries\n",
    "empty_dict = {}\n",
    "print(type(empty_dict))"
   ]
  },
  {
   "cell_type": "code",
   "execution_count": 4,
   "id": "3df41de2",
   "metadata": {},
   "outputs": [
    {
     "data": {
      "text/plain": [
       "{}"
      ]
     },
     "execution_count": 4,
     "metadata": {},
     "output_type": "execute_result"
    }
   ],
   "source": [
    "empty_dict=dict()\n",
    "empty_dict"
   ]
  },
  {
   "cell_type": "code",
   "execution_count": 5,
   "id": "d98e3380",
   "metadata": {},
   "outputs": [
    {
     "name": "stdout",
     "output_type": "stream",
     "text": [
      "{'name': 'vicky', 'age': 20, 'grade': 25}\n",
      "<class 'dict'>\n"
     ]
    }
   ],
   "source": [
    "student = {\"name\":\"vicky\", \"age\": 20, \"grade\": 25}\n",
    "print(student)\n",
    "print(type(student))\n"
   ]
  },
  {
   "cell_type": "code",
   "execution_count": 6,
   "id": "6f07c0b1",
   "metadata": {},
   "outputs": [
    {
     "name": "stdout",
     "output_type": "stream",
     "text": [
      "{'name': 'vicky', 'age': 25}\n"
     ]
    }
   ],
   "source": [
    "## error (if again defingi key it is going to as consider name)\n",
    "## single key is always used instead of many keys\n",
    "\n",
    "\n",
    "student = {\"name\":\"vicky\", \"age\": 20, \"age\": 25}\n",
    "print(student)"
   ]
  },
  {
   "cell_type": "code",
   "execution_count": 7,
   "id": "0c06225c",
   "metadata": {},
   "outputs": [
    {
     "name": "stdout",
     "output_type": "stream",
     "text": [
      "{'name': 'vicky', 'age': 20, 'grade': 25}\n",
      "25\n",
      "vicky\n",
      "25\n",
      "None\n",
      "not available\n"
     ]
    }
   ],
   "source": [
    "## accessing dictionary elements\n",
    "\n",
    "student = {\"name\":\"vicky\", \"age\": 20, \"grade\": 25}\n",
    "print(student)\n",
    "print(student['grade'])\n",
    "print(student['name'])\n",
    "\n",
    "## accessing using default get() menthod provide dby\n",
    "print(student.get('grade'))\n",
    "print(student.get('lastName'))\n",
    "print(student.get('lastName',\"not available\")) # giving defalut not available name \n"
   ]
  },
  {
   "cell_type": "code",
   "execution_count": 8,
   "id": "5f23cb36",
   "metadata": {},
   "outputs": [
    {
     "name": "stdout",
     "output_type": "stream",
     "text": [
      "{'name': 'vicky', 'age': 20, 'grade': 25}\n"
     ]
    }
   ],
   "source": [
    "## modifying dictionary elements\n",
    "## dictionary adre mutable , so you can add, update or delete elements\n",
    "print(student)\n"
   ]
  },
  {
   "cell_type": "code",
   "execution_count": 9,
   "id": "3fc533c6",
   "metadata": {},
   "outputs": [
    {
     "name": "stdout",
     "output_type": "stream",
     "text": [
      "{'name': 'vicky', 'age': 20, 'grade': 25, 'address': 'india'}\n"
     ]
    }
   ],
   "source": [
    "student[\"address\"] = \"india\"\n",
    "print(student)"
   ]
  },
  {
   "cell_type": "code",
   "execution_count": 10,
   "id": "d377c6f4",
   "metadata": {},
   "outputs": [],
   "source": [
    "## able to delete key and value pair\n",
    "del student['grade']"
   ]
  },
  {
   "cell_type": "code",
   "execution_count": 11,
   "id": "f1d53780",
   "metadata": {},
   "outputs": [
    {
     "name": "stdout",
     "output_type": "stream",
     "text": [
      "{'name': 'vicky', 'age': 20, 'address': 'india'}\n"
     ]
    }
   ],
   "source": [
    "print(student)"
   ]
  },
  {
   "cell_type": "code",
   "execution_count": 12,
   "id": "141c14ba",
   "metadata": {},
   "outputs": [],
   "source": [
    "### Dictionary methods"
   ]
  },
  {
   "cell_type": "code",
   "execution_count": 13,
   "id": "4d68a1bc",
   "metadata": {},
   "outputs": [
    {
     "name": "stdout",
     "output_type": "stream",
     "text": [
      "dict_keys(['name', 'age', 'address'])\n",
      "dict_values(['vicky', 20, 'india'])\n",
      "dict_items([('name', 'vicky'), ('age', 20), ('address', 'india')])\n"
     ]
    }
   ],
   "source": [
    "keys= student.keys()\n",
    "print(keys)\n",
    "values = student.values()\n",
    "print(values)\n",
    "\n",
    "items = student.items()\n",
    "print(items)"
   ]
  },
  {
   "cell_type": "code",
   "execution_count": 14,
   "id": "5574f6d0",
   "metadata": {},
   "outputs": [
    {
     "name": "stdout",
     "output_type": "stream",
     "text": [
      "{'name': 'vicky', 'age': 20, 'address': 'india'}\n",
      "{'name': 'vicky', 'age': 20, 'address': 'india'}\n"
     ]
    }
   ],
   "source": [
    "## shallow copy\n",
    "\n",
    "student_copy = student\n",
    "print(student)\n",
    "print(student_copy)"
   ]
  },
  {
   "cell_type": "code",
   "execution_count": 15,
   "id": "b9d747c4",
   "metadata": {},
   "outputs": [
    {
     "name": "stdout",
     "output_type": "stream",
     "text": [
      "{'name': 'vikram', 'age': 20, 'address': 'india'}\n",
      "{'name': 'vikram', 'age': 20, 'address': 'india'}\n"
     ]
    }
   ],
   "source": [
    "student['name']= \"vikram\"\n",
    "print(student)\n",
    "print(student_copy)"
   ]
  },
  {
   "cell_type": "code",
   "execution_count": 16,
   "id": "87751f0d",
   "metadata": {},
   "outputs": [
    {
     "name": "stdout",
     "output_type": "stream",
     "text": [
      "{'name': 'vikram', 'age': 20, 'address': 'india'}\n",
      "{'name': 'vikram', 'age': 20, 'address': 'india'}\n"
     ]
    }
   ],
   "source": [
    "student_copy1 = student.copy() ## shallow copy which allocates different memeory \n",
    "\n",
    "print(student)\n",
    "print(student_copy1)"
   ]
  },
  {
   "cell_type": "code",
   "execution_count": 17,
   "id": "672336a4",
   "metadata": {},
   "outputs": [
    {
     "name": "stdout",
     "output_type": "stream",
     "text": [
      "{'name': 'vik', 'age': 20, 'address': 'india'}\n",
      "{'name': 'vikram', 'age': 20, 'address': 'india'}\n"
     ]
    }
   ],
   "source": [
    "student['name']= \"vik\"\n",
    "print(student)\n",
    "print(student_copy1)"
   ]
  },
  {
   "cell_type": "code",
   "execution_count": 18,
   "id": "6d1074f4",
   "metadata": {},
   "outputs": [],
   "source": [
    "##\n"
   ]
  },
  {
   "cell_type": "code",
   "execution_count": 19,
   "id": "2b895b98",
   "metadata": {},
   "outputs": [
    {
     "name": "stdout",
     "output_type": "stream",
     "text": [
      "name\n",
      "age\n",
      "address\n"
     ]
    }
   ],
   "source": [
    "## Iterating over dictionaries\n",
    "## you can use loops to iterate over dictionaries, keys, values ,or items\n",
    "for keys in student.keys():\n",
    "    print(keys)"
   ]
  },
  {
   "cell_type": "code",
   "execution_count": 20,
   "id": "5bfd36ef",
   "metadata": {},
   "outputs": [
    {
     "name": "stdout",
     "output_type": "stream",
     "text": [
      "vik\n",
      "20\n",
      "india\n"
     ]
    }
   ],
   "source": [
    "## iterate over values\n",
    "\n",
    "for values in student.values():\n",
    "    print(values)"
   ]
  },
  {
   "cell_type": "code",
   "execution_count": 21,
   "id": "17dcb7f3",
   "metadata": {},
   "outputs": [
    {
     "name": "stdout",
     "output_type": "stream",
     "text": [
      "name: vik\n",
      "age: 20\n",
      "address: india\n"
     ]
    }
   ],
   "source": [
    "## iterate over key value pairs\n",
    "for key, value in student.items():\n",
    "    print(f\"{key}: {value}\")"
   ]
  },
  {
   "cell_type": "code",
   "execution_count": 22,
   "id": "5f42b881",
   "metadata": {},
   "outputs": [
    {
     "name": "stdout",
     "output_type": "stream",
     "text": [
      "{'std1': {'name': ' alice', 'age': 21}, 'std2': {'name': ' bob', 'age': 20}}\n"
     ]
    }
   ],
   "source": [
    "## Nested dictionaries\n",
    "students ={\n",
    "    \"std1\":{\"name\": \" alice\", \"age\":21},\n",
    "    \"std2\":{\"name\": \" bob\", \"age\":20},\n",
    "\n",
    "}\n",
    "print(students)"
   ]
  },
  {
   "cell_type": "code",
   "execution_count": 23,
   "id": "fbb85151",
   "metadata": {},
   "outputs": [
    {
     "name": "stdout",
     "output_type": "stream",
     "text": [
      " bob\n",
      "20\n"
     ]
    }
   ],
   "source": [
    "## access nested Dictionaries elements\n",
    "print(students[\"std2\"][\"name\"])\n",
    "print(students[\"std2\"][\"age\"])\n"
   ]
  },
  {
   "cell_type": "code",
   "execution_count": 24,
   "id": "d881fb13",
   "metadata": {},
   "outputs": [
    {
     "data": {
      "text/plain": [
       "dict_items([('std1', {'name': ' alice', 'age': 21}), ('std2', {'name': ' bob', 'age': 20})])"
      ]
     },
     "execution_count": 24,
     "metadata": {},
     "output_type": "execute_result"
    }
   ],
   "source": [
    "students.items()\n"
   ]
  },
  {
   "cell_type": "code",
   "execution_count": 25,
   "id": "0e67e75d",
   "metadata": {},
   "outputs": [
    {
     "name": "stdout",
     "output_type": "stream",
     "text": [
      "std1 and..info.. {'name': ' alice', 'age': 21}\n",
      "name:  alice\n",
      "age: 21\n",
      "std2 and..info.. {'name': ' bob', 'age': 20}\n",
      "name:  bob\n",
      "age: 20\n"
     ]
    }
   ],
   "source": [
    "### Iterating over nested dictionaries\n",
    "for student_id, student_info in students.items():\n",
    "    print(f\"{student_id} and..info.. {student_info}\")\n",
    "    for key, value in student_info.items():\n",
    "        print(f\"{key}: {value}\")"
   ]
  },
  {
   "cell_type": "code",
   "execution_count": 26,
   "id": "51516c5c",
   "metadata": {},
   "outputs": [
    {
     "name": "stdout",
     "output_type": "stream",
     "text": [
      "{0: 0, 1: 1, 2: 4, 3: 9, 4: 16}\n"
     ]
    }
   ],
   "source": [
    "## dictionary comphrenhension\n",
    "squaries ={x:x**2 for x in range(5)}\n",
    "print(squaries)"
   ]
  },
  {
   "cell_type": "code",
   "execution_count": 27,
   "id": "942f7ced",
   "metadata": {},
   "outputs": [
    {
     "data": {
      "text/plain": [
       "{0: 0, 2: 4, 4: 16, 6: 36, 8: 64}"
      ]
     },
     "execution_count": 27,
     "metadata": {},
     "output_type": "execute_result"
    }
   ],
   "source": [
    "## Condition dictionary comprehension\n",
    "events = {x: x**2 for x in range(10 ) if x%2 ==0}\n",
    "events"
   ]
  },
  {
   "cell_type": "code",
   "execution_count": 30,
   "id": "fddd2347",
   "metadata": {},
   "outputs": [
    {
     "name": "stdout",
     "output_type": "stream",
     "text": [
      "[5, 4, 3, 2, 1]\n",
      "[4]\n",
      "{1: 1, 2: 2, 0: 5, 3: 3, 4: 4}\n"
     ]
    }
   ],
   "source": [
    "## Practical examples\n",
    "\n",
    "## use a dictionary to cuont the frequency of elements in list \n",
    "\n",
    "numbers =[1, 2, 2,0,0,0,0,0, 3, 3, 3, 4,4, 4, 4 ]\n",
    "freq= {x:numbers.count(x) for x in numbers}\n",
    "freq_values = list(set(freq.values()))\n",
    "# freq_values = set(list(freq_values)[reverse = True])\n",
    "freq_values.sort(reverse= True)\n",
    "\n",
    "print(freq_values)\n",
    "second = freq_values[1]\n",
    "res =[num for num in freq if freq[num] == second]\n",
    "print(res)\n",
    "print(freq)"
   ]
  },
  {
   "cell_type": "code",
   "execution_count": 29,
   "id": "d470d092",
   "metadata": {},
   "outputs": [
    {
     "name": "stdout",
     "output_type": "stream",
     "text": [
      "{'a': 1, 'b': 3, 'c': 4}\n"
     ]
    }
   ],
   "source": [
    "## Merge 2 dictionaries into one\n",
    "\n",
    "dict1 = {\"a\":1, \"b\":12}\n",
    "dict2 = {\"b\":3, \"c\":4}\n",
    "merge_dict = {**dict1, **dict2}\n",
    "print(merge_dict)\n"
   ]
  },
  {
   "cell_type": "code",
   "execution_count": null,
   "id": "f6d554c5",
   "metadata": {},
   "outputs": [],
   "source": []
  }
 ],
 "metadata": {
  "kernelspec": {
   "display_name": "venv",
   "language": "python",
   "name": "python3"
  },
  "language_info": {
   "codemirror_mode": {
    "name": "ipython",
    "version": 3
   },
   "file_extension": ".py",
   "mimetype": "text/x-python",
   "name": "python",
   "nbconvert_exporter": "python",
   "pygments_lexer": "ipython3",
   "version": "3.12.0"
  }
 },
 "nbformat": 4,
 "nbformat_minor": 5
}
