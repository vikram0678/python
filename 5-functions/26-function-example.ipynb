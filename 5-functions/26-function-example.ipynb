{
 "cells": [
  {
   "cell_type": "markdown",
   "id": "12d210fd",
   "metadata": {},
   "source": [
    "### Functions example"
   ]
  },
  {
   "cell_type": "markdown",
   "id": "928ecb99",
   "metadata": {},
   "source": [
    "#### example 1: Temperature Conversion\n",
    "\n"
   ]
  },
  {
   "cell_type": "code",
   "execution_count": null,
   "id": "47c781b3",
   "metadata": {},
   "outputs": [
    {
     "name": "stdout",
     "output_type": "stream",
     "text": [
      "73.4\n",
      "161.11111111111111\n"
     ]
    }
   ],
   "source": [
    "def convert_temp(temp, unit):\n",
    "    \"\"\" This function converts temperature between celsicus and Fahrenheit\"\"\"\n",
    "    if unit ==\"C\":\n",
    "        return temp * 9/5 + 32 ## Celsius to fahrenheit\n",
    "    elif unit == \"F\":\n",
    "        return (temp - 32) * 5/9 ## Fahrenheit\n",
    "    else:\n",
    "        return None\n",
    "\n",
    "print(convert_temp(23, 'C'))\n",
    "print(convert_temp(322,'F'))"
   ]
  },
  {
   "cell_type": "markdown",
   "id": "43c08d07",
   "metadata": {},
   "source": [
    "#### Example 2: Password Strength Checker"
   ]
  },
  {
   "cell_type": "code",
   "execution_count": 5,
   "id": "4fd0667d",
   "metadata": {},
   "outputs": [
    {
     "name": "stdout",
     "output_type": "stream",
     "text": [
      "False\n",
      "True\n"
     ]
    }
   ],
   "source": [
    "\n",
    "\n",
    "def is_strong_password(password):\n",
    "    \"\"\" this fuctiion checks if the password is strong or not\"\"\"\n",
    "    if len(password) < 8:\n",
    "        return False\n",
    "    if not any(char.isdigit() for char in password):\n",
    "        return False\n",
    "    if not any(char.islower() for char in password):\n",
    "        return False\n",
    "    if not any( char.isupper() for char in password):\n",
    "        return False\n",
    "    if not any(char in '!!@#$%^&*()-+' for char in password):\n",
    "        return False\n",
    "    return True\n",
    "\n",
    "## calling the function\n",
    "print(is_strong_password(\"weakPwd\"))\n",
    "print(is_strong_password(\"Str*21235\"))"
   ]
  },
  {
   "cell_type": "markdown",
   "id": "7ffd4740",
   "metadata": {},
   "source": [
    "#### Example 3: Calculate the Total Cost Of Items in a shopping Cart\n"
   ]
  },
  {
   "cell_type": "code",
   "execution_count": 13,
   "id": "ae1cd640",
   "metadata": {},
   "outputs": [
    {
     "name": "stdout",
     "output_type": "stream",
     "text": [
      "{'name': 'Apple', 'price': 0.5, 'quantity': 4}\n",
      "{'name': 'Banana', 'price': 0.15, 'quantity': 1}\n",
      "{'name': 'orange', 'price': 0.9, 'quantity': 10}\n",
      "11.15\n"
     ]
    }
   ],
   "source": [
    "def  calculate_total_cost(cart):\n",
    "    total_cost = 0\n",
    "    for items in cart:\n",
    "        print(items)\n",
    "        total_cost += items[\"price\"]*items[\"quantity\"]\n",
    "    print(total_cost)\n",
    "\n",
    "## Example cart Data\n",
    "\n",
    "cart =[\n",
    "    {'name':'Apple','price':0.5, 'quantity':4},\n",
    "    {'name':'Banana','price':0.15, 'quantity':1},\n",
    "    {'name':'orange','price':0.9, 'quantity':10}\n",
    "\n",
    "]\n",
    "calculate_total_cost(cart)"
   ]
  },
  {
   "cell_type": "markdown",
   "id": "c22e50f7",
   "metadata": {},
   "source": [
    "\n",
    "#### Example 4: Check IF a String is Palindrome\n"
   ]
  },
  {
   "cell_type": "code",
   "execution_count": 19,
   "id": "b6b661c0",
   "metadata": {},
   "outputs": [
    {
     "name": "stdout",
     "output_type": "stream",
     "text": [
      "False\n",
      "True\n"
     ]
    }
   ],
   "source": [
    "def is_palindrome(s):\n",
    "    s= s.lower().replace(\" \",\"\")\n",
    "    if(s[:]==s[::-1]):\n",
    "        return True\n",
    "    return False\n",
    "print(is_palindrome('hello'))\n",
    "print(is_palindrome(\"hellolleh\"))"
   ]
  },
  {
   "cell_type": "markdown",
   "id": "8470ca20",
   "metadata": {},
   "source": [
    "\n",
    "#### Example 5: Calculate the factorials of a number using recursion"
   ]
  },
  {
   "cell_type": "code",
   "execution_count": 20,
   "id": "32654f56",
   "metadata": {},
   "outputs": [
    {
     "name": "stdout",
     "output_type": "stream",
     "text": [
      "120\n"
     ]
    }
   ],
   "source": [
    "def fact(n):\n",
    "    if n==0:\n",
    "        return 1\n",
    "    elif n==1:\n",
    "        return 1\n",
    "    else:\n",
    "        return n*fact(n-1)\n",
    "\n",
    "print(fact(5))"
   ]
  },
  {
   "cell_type": "markdown",
   "id": "9db5c990",
   "metadata": {},
   "source": [
    "### Example 6: A function to read a file and count the frequency of each word"
   ]
  },
  {
   "cell_type": "code",
   "execution_count": 23,
   "id": "c40742a7",
   "metadata": {},
   "outputs": [
    {
     "name": "stdout",
     "output_type": "stream",
     "text": [
      "{'hello': 1, 'world': 1, 'how': 1, 'are': 1, 'you': 1, 'my': 1, 'name': 1, 'is': 1, 'vicky': 2}\n"
     ]
    }
   ],
   "source": [
    "def count_word_freq(file_path):\n",
    "    word_count={}\n",
    "    with open(file_path,'r') as file:\n",
    "        for line in file:\n",
    "            words = line.split()\n",
    "            for word  in words :\n",
    "                word = word.lower().strip(',.!?;:\"\\'')\n",
    "                word_count[word] = word_count.get(word,0)+1\n",
    "    return word_count\n",
    "file_path ='sampel.txt'\n",
    "print(count_word_freq(file_path))"
   ]
  },
  {
   "cell_type": "markdown",
   "id": "06441348",
   "metadata": {},
   "source": [
    "### Example 7: Validate Email Address"
   ]
  },
  {
   "cell_type": "code",
   "execution_count": 24,
   "id": "5d344ae2",
   "metadata": {},
   "outputs": [
    {
     "name": "stdout",
     "output_type": "stream",
     "text": [
      "True\n",
      "False\n"
     ]
    }
   ],
   "source": [
    "import re\n",
    "\n",
    "# Email validation function\n",
    "def is_valid_email(email):\n",
    "    \"\"\"  This function checks if the email is valid.\"\"\"\n",
    "    pattern = r'^[a-zA-Z0-9_.+-]+@[a-zA-Z0-9-]+\\.[a-zA-Z0-9-.]+$'\n",
    "    return re.match(pattern, email) is not None\n",
    "\n",
    "## calling the function\n",
    "print(is_valid_email(\"test@mail.com\")) # output: True\n",
    "print(is_valid_email(\"invalid-email\")) # output: False"
   ]
  },
  {
   "cell_type": "code",
   "execution_count": null,
   "id": "fc4a4df6",
   "metadata": {},
   "outputs": [],
   "source": []
  }
 ],
 "metadata": {
  "kernelspec": {
   "display_name": "venv",
   "language": "python",
   "name": "python3"
  },
  "language_info": {
   "codemirror_mode": {
    "name": "ipython",
    "version": 3
   },
   "file_extension": ".py",
   "mimetype": "text/x-python",
   "name": "python",
   "nbconvert_exporter": "python",
   "pygments_lexer": "ipython3",
   "version": "3.12.0"
  }
 },
 "nbformat": 4,
 "nbformat_minor": 5
}
