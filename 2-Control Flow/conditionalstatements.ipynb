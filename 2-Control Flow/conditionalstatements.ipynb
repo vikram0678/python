{
 "cells": [
  {
   "cell_type": "markdown",
   "id": "9c8aee68",
   "metadata": {},
   "source": [
    "1. Introduction to conditional statements\n",
    "2. if statement\n",
    "3. else statement\n",
    "4. elif statement\n",
    "5. nested conditional statements\n",
    "6. practical examples\n",
    "7. common errors and best practices\n"
   ]
  },
  {
   "cell_type": "code",
   "execution_count": 2,
   "id": "eeada455",
   "metadata": {},
   "outputs": [
    {
     "name": "stdout",
     "output_type": "stream",
     "text": [
      "You are an adult\n"
     ]
    }
   ],
   "source": [
    "age=19\n",
    "if age>18:\n",
    "    print(\"You are an adult\")"
   ]
  },
  {
   "cell_type": "code",
   "execution_count": 3,
   "id": "e15525d0",
   "metadata": {},
   "outputs": [
    {
     "data": {
      "text/plain": [
       "True"
      ]
     },
     "execution_count": 3,
     "metadata": {},
     "output_type": "execute_result"
    }
   ],
   "source": [
    "age >=19"
   ]
  },
  {
   "cell_type": "code",
   "execution_count": 4,
   "id": "79354915",
   "metadata": {},
   "outputs": [
    {
     "name": "stdout",
     "output_type": "stream",
     "text": [
      " minor\n"
     ]
    }
   ],
   "source": [
    "# else\n",
    "##  the else statement executes a block of code if the condition in the if statement is false.\n",
    "age=16\n",
    "if age>=18:\n",
    "    print(\" vote\")\n",
    "else:\n",
    "    print(\" minor\")"
   ]
  },
  {
   "cell_type": "code",
   "execution_count": 6,
   "id": "dc103a8c",
   "metadata": {},
   "outputs": [
    {
     "name": "stdout",
     "output_type": "stream",
     "text": [
      "yo uare an adult\n"
     ]
    }
   ],
   "source": [
    "# elif\n",
    "## the elif statement allows you to check multiple conditions .it stands for \"else if\"\n",
    "\n",
    "age=20\n",
    "if age< 13:\n",
    "    print(\" you are a child\")\n",
    "elif age< 18:\n",
    "    print(\" you are a teenager\")\n",
    "else:\n",
    "    print(\"yo uare an adult\")"
   ]
  },
  {
   "cell_type": "code",
   "execution_count": 11,
   "id": "07e03577",
   "metadata": {},
   "outputs": [
    {
     "name": "stdout",
     "output_type": "stream",
     "text": [
      "the number is negative\n"
     ]
    }
   ],
   "source": [
    "# nested conditional statemetn/\n",
    "#  you can place one or more if, elif or else statment inside another if, elif, or else statement\n",
    "\n",
    "#num  even, odd, negative\n",
    "\n",
    "n=int(input(\" enter num\"))\n",
    "if n>=0:\n",
    "    print(\" the num is positive\")\n",
    "    if n%2==0:\n",
    "        print(\" the number is even\")\n",
    "    else:\n",
    "        print(\" the  number is odd\")\n",
    "else:\n",
    "    print( \"the number is negative\")\n"
   ]
  },
  {
   "cell_type": "code",
   "execution_count": 15,
   "id": "3da96d10",
   "metadata": {},
   "outputs": [
    {
     "name": "stdout",
     "output_type": "stream",
     "text": [
      "2026  is not a leap year\n"
     ]
    }
   ],
   "source": [
    "# practical examples\n",
    "#  determine if a year i a leap year using nested condition statement\n",
    "\n",
    "year =int(input(\" enter year\"))\n",
    "if year % 4 == 0:\n",
    "    if year %100 ==0:\n",
    "        if year%400 ==0:\n",
    "            print(year,\" is a leap year\")\n",
    "        else:\n",
    "            print(year,\" is not a leap year\")\n",
    "    else:\n",
    "        print(year, \" is a leap year\")\n",
    "else:\n",
    "    print(year, \" is not a leap year\")"
   ]
  },
  {
   "cell_type": "code",
   "execution_count": 20,
   "id": "0fde6db1",
   "metadata": {},
   "outputs": [
    {
     "name": "stdout",
     "output_type": "stream",
     "text": [
      "* : 2200\n"
     ]
    }
   ],
   "source": [
    "##assignment\n",
    "## simple calculator\n",
    "choose =1\n",
    "while(choose==1):\n",
    "    n=int(input(\"enter num1\"))\n",
    "    n2=int(input(\" enter num2\"))\n",
    "    operator=input(\" enter operation (+, -, *, %, /, //)\")\n",
    "\n",
    "    if operator==\"+\":\n",
    "        print(operator,':',n+n2)\n",
    "    elif operator==\"-\":\n",
    "        print(operator,':',n-n2)\n",
    "    elif operator==\"*\":\n",
    "        print(operator,':',n*n2)\n",
    "    elif operator==\"%\":\n",
    "        print(operator,':',n%n2)\n",
    "    elif operator==\"/\":\n",
    "        print(operator,':',n/n2)\n",
    "    elif operator==\"//\":\n",
    "        print(operator,':',n//n2)\n",
    "    \n",
    "    choose=int(input(\"enter 1 to continue else 0 to exit\"))\n",
    "\n",
    "\n"
   ]
  },
  {
   "cell_type": "code",
   "execution_count": null,
   "id": "2179fa7f",
   "metadata": {},
   "outputs": [],
   "source": []
  }
 ],
 "metadata": {
  "kernelspec": {
   "display_name": "venv",
   "language": "python",
   "name": "python3"
  },
  "language_info": {
   "codemirror_mode": {
    "name": "ipython",
    "version": 3
   },
   "file_extension": ".py",
   "mimetype": "text/x-python",
   "name": "python",
   "nbconvert_exporter": "python",
   "pygments_lexer": "ipython3",
   "version": "3.12.0"
  }
 },
 "nbformat": 4,
 "nbformat_minor": 5
}
