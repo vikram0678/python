{
 "cells": [
  {
   "cell_type": "markdown",
   "id": "64251e27",
   "metadata": {},
   "source": [
    "Syntax and semantics in python\n",
    " --> Single line comments and multiline comments\n",
    " ->defination of syntax and semantics\n",
    " #basic syntax rules in python\n",
    " ->understanding semantics ni python\n",
    " -->common syntax errors and how to avoid them\n",
    " -->practical code examples \n",
    " \n"
   ]
  },
  {
   "cell_type": "markdown",
   "id": "b88d3620",
   "metadata": {},
   "source": [
    "syntax refers to the set of rules that defines the combinations of symbols that are considered to be correctly structured programs in a language. in simple terms syntax is about the correct arranbement of words and symbols in a code"
   ]
  },
  {
   "cell_type": "markdown",
   "id": "efa8e767",
   "metadata": {},
   "source": [
    "semantics refers to the meaning or the interpretation of the symbols characters, and commans in a language. it is about what the code is supposed to do when it runs."
   ]
  },
  {
   "cell_type": "markdown",
   "id": "466c0ddc",
   "metadata": {},
   "source": [
    "Indentation\n",
    "\n",
    "indentatio is python is used to define the structure and hierarchy of the code. Unlike manyother programming languages that use braces{} to delimit blocks of code, python used indentation to determine he grouping of statements. Thsi means taht all the statements within a block must be indented at the same level."
   ]
  },
  {
   "cell_type": "code",
   "execution_count": 2,
   "id": "4c4889d4",
   "metadata": {},
   "outputs": [],
   "source": [
    "## basic syntax rules in python\n",
    "## case sensitivity\n"
   ]
  },
  {
   "cell_type": "code",
   "execution_count": 6,
   "id": "d337a326",
   "metadata": {},
   "outputs": [
    {
     "name": "stdout",
     "output_type": "stream",
     "text": [
      "21\n"
     ]
    }
   ],
   "source": [
    "#line continuation\n",
    "\n",
    "## use a backslash (\\ ) to continue a statement to the next line\n",
    "total=1+2+3+5\\\n",
    "+10\n",
    "print(total)"
   ]
  },
  {
   "cell_type": "code",
   "execution_count": 8,
   "id": "e81c61ce",
   "metadata": {},
   "outputs": [
    {
     "name": "stdout",
     "output_type": "stream",
     "text": [
      "15\n"
     ]
    }
   ],
   "source": [
    "# multiple statemetns on  a single line\n",
    "x=5;y=10;z=x+y\n",
    "print(z)"
   ]
  },
  {
   "cell_type": "code",
   "execution_count": null,
   "id": "64c6372c",
   "metadata": {},
   "outputs": [
    {
     "data": {
      "text/plain": [
       "2"
      ]
     },
     "execution_count": 9,
     "metadata": {},
     "output_type": "execute_result"
    }
   ],
   "source": [
    "# understand sematics in python\n",
    "# variable assignment"
   ]
  },
  {
   "cell_type": "code",
   "execution_count": null,
   "id": "057626bf",
   "metadata": {},
   "outputs": [
    {
     "name": "stdout",
     "output_type": "stream",
     "text": [
      "<class 'int'>\n",
      "<class 'str'>\n"
     ]
    }
   ],
   "source": [
    "# type(name)#to find the \n",
    "# type inference\n",
    "\n",
    "variable =10\n",
    "print(type(variable))\n",
    "variable=\"vikram\"\n",
    "print(type(variable))"
   ]
  },
  {
   "cell_type": "code",
   "execution_count": 4,
   "id": "a2c8d8bc",
   "metadata": {},
   "outputs": [
    {
     "ename": "AttributeError",
     "evalue": "'list' object has no attribute 'split'",
     "output_type": "error",
     "traceback": [
      "\u001b[31m---------------------------------------------------------------------------\u001b[39m",
      "\u001b[31mAttributeError\u001b[39m                            Traceback (most recent call last)",
      "\u001b[36mCell\u001b[39m\u001b[36m \u001b[39m\u001b[32mIn[4]\u001b[39m\u001b[32m, line 3\u001b[39m\n\u001b[32m      1\u001b[39m n=\u001b[32m22\u001b[39m\n\u001b[32m      2\u001b[39m ar=\u001b[38;5;28mstr\u001b[39m(n).split()\n\u001b[32m----> \u001b[39m\u001b[32m3\u001b[39m ar=\u001b[43mar\u001b[49m\u001b[43m.\u001b[49m\u001b[43msplit\u001b[49m()\n\u001b[32m      5\u001b[39m \u001b[38;5;28mprint\u001b[39m(ar)\n",
      "\u001b[31mAttributeError\u001b[39m: 'list' object has no attribute 'split'"
     ]
    }
   ],
   "source": [
    "n=22\n",
    "ar=str(n).split()\n",
    "ar=ar.split()\n",
    "\n",
    "print(ar)\n"
   ]
  },
  {
   "cell_type": "code",
   "execution_count": null,
   "id": "552bca9d",
   "metadata": {},
   "outputs": [],
   "source": []
  }
 ],
 "metadata": {
  "kernelspec": {
   "display_name": "venv",
   "language": "python",
   "name": "python3"
  },
  "language_info": {
   "codemirror_mode": {
    "name": "ipython",
    "version": 3
   },
   "file_extension": ".py",
   "mimetype": "text/x-python",
   "name": "python",
   "nbconvert_exporter": "python",
   "pygments_lexer": "ipython3",
   "version": "3.12.0"
  }
 },
 "nbformat": 4,
 "nbformat_minor": 5
}
