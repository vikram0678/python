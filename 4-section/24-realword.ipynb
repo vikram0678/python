{
 "cells": [
  {
   "cell_type": "markdown",
   "id": "e419bffa",
   "metadata": {},
   "source": [
    "### Real-world examples using lists in python\n",
    "Lists are one of the most commonly used data structures in python, thanks to thier versatility and ease of use. Here are several practical exampless thhat illustrate their use in real world scenarios.\n",
    "\n",
    "Example 1. Manage A TO Do List\n",
    "* Create a To Do List To keep Track Of Tasks"
   ]
  },
  {
   "cell_type": "code",
   "execution_count": 9,
   "id": "8ec9b090",
   "metadata": {},
   "outputs": [
    {
     "name": "stdout",
     "output_type": "stream",
     "text": [
      "Dont forget to pay the utility bills\n",
      "to_do_list tasks remaining\n",
      "Buy Groceries\n",
      "Pay bills\n",
      "Schedule meetinggg\n",
      "Go for a run\n"
     ]
    }
   ],
   "source": [
    "to_do_list = [\"Buy Groceries\", \"Clean the House\", \"Pay bills\"]\n",
    "\n",
    "##Adding to task\n",
    "to_do_list.append(\"Schedule meetinggg\")\n",
    "to_do_list.append(\"Go for a run\")\n",
    "\n",
    "## Removing a completed task\n",
    "to_do_list.remove(\"Clean the House\")\n",
    "\n",
    "## Check if a task is in the list\n",
    "if \"Pay bills\" in to_do_list:\n",
    "    print(\"Dont forget to pay the utility bills\")\n",
    "\n",
    "print(\"to_do_list tasks remaining\")\n",
    "for task in to_do_list:\n",
    "    print(f\"{task}\")\n"
   ]
  },
  {
   "cell_type": "markdown",
   "id": "9d4845d7",
   "metadata": {},
   "source": [
    "### Example 2: Organizing Student Grades\n",
    "* Create a list to store and calculate average grades for students"
   ]
  },
  {
   "cell_type": "code",
   "execution_count": 10,
   "id": "99f8d98e",
   "metadata": {},
   "outputs": [
    {
     "name": "stdout",
     "output_type": "stream",
     "text": [
      "Average grades: 79.67\n",
      "highest_grade : 95\n",
      "lowest_grade : 35\n"
     ]
    }
   ],
   "source": [
    "# Organizing Student grades\n",
    "grades = [35, 92, 78, 90, 88]\n",
    "\n",
    "# Adding a new grade\n",
    "grades.append(95)\n",
    "\n",
    "# Calculate the average grade\n",
    "average_grade = sum(grades)/ len(grades)\n",
    "print(f\"Average grades: {average_grade:.2f}\")\n",
    "\n",
    "# finding the highest and lowest grades\n",
    "highest_grade = max(grades)\n",
    "lowest_grade = min(grades)\n",
    "print(f\"highest_grade : {highest_grade}\")\n",
    "print(f\"lowest_grade : {lowest_grade}\")\n",
    "\n"
   ]
  },
  {
   "cell_type": "markdown",
   "id": "220f249e",
   "metadata": {},
   "source": [
    "### Example 3: Managing An Inventory\n",
    "* Use a list to manage inventory items in a store"
   ]
  },
  {
   "cell_type": "code",
   "execution_count": 13,
   "id": "b91dfdce",
   "metadata": {},
   "outputs": [
    {
     "name": "stdout",
     "output_type": "stream",
     "text": [
      "orange are out of stock.\n",
      "ivenetarory lists:\n",
      "apples\n",
      "oranges\n",
      "grapes\n",
      "Strawberrries\n"
     ]
    }
   ],
   "source": [
    "# Managing an Inventory\n",
    "inventory = [\"apples\", \"bananas\", \"oranges\", \"grapes\"]\n",
    "\n",
    "#Adding a new line\n",
    "inventory.append(\"Strawberrries\")\n",
    "\n",
    "#Removing an item that is out of stock\n",
    "inventory.remove(\"bananas\")\n",
    "\n",
    "# Checking  if an item is in stock\n",
    "item = \"orange\"\n",
    "if item in inventory:\n",
    "    print(f\"{item} are in stock\")\n",
    "else:\n",
    "    print(f\"{item} are out of stock.\")\n",
    "\n",
    "print(\"ivenetarory lists:\")\n",
    "for item in inventory:\n",
    "    print(f\"{item}\")"
   ]
  },
  {
   "cell_type": "markdown",
   "id": "044969fd",
   "metadata": {},
   "source": [
    "### Example 4: Collecting User Feedback\n",
    "* Use a list to collect and analyze user feedback"
   ]
  },
  {
   "cell_type": "code",
   "execution_count": 1,
   "id": "2ede2fa3",
   "metadata": {},
   "outputs": [
    {
     "name": "stdout",
     "output_type": "stream",
     "text": [
      "Positive feedback count :5\n",
      "User feedback\n",
      "Greak service!\n",
      "very satisfied\n",
      "Could be better\n",
      "exellent experiende;\n",
      "Not happy with the service\n"
     ]
    }
   ],
   "source": [
    "# Collecting user feedback\n",
    "feedback = [\"Greak service!\", \"very satisfied\",\"Could be better\", \"exellent experiende;\"]\n",
    "\n",
    "# adding new feedback\n",
    "feedback.append(\"Not happy with the service\")\n",
    "\n",
    "#counting specific feedback\n",
    "postive_feedback_count = sum(1 for comment in feedback if \"great\" in comment.lower() or\"excellent\")\n",
    "print(f\"Positive feedback count :{postive_feedback_count}\")\n",
    "\n",
    "# printing all feedback\n",
    "\n",
    "print(\"User feedback\")\n",
    "for comment in feedback :\n",
    "    print(f\"{comment}\")"
   ]
  },
  {
   "cell_type": "code",
   "execution_count": null,
   "id": "9e2d55b9",
   "metadata": {},
   "outputs": [],
   "source": []
  },
  {
   "cell_type": "markdown",
   "id": "0c18dfb7",
   "metadata": {},
   "source": []
  }
 ],
 "metadata": {
  "kernelspec": {
   "display_name": "venv",
   "language": "python",
   "name": "python3"
  },
  "language_info": {
   "codemirror_mode": {
    "name": "ipython",
    "version": 3
   },
   "file_extension": ".py",
   "mimetype": "text/x-python",
   "name": "python",
   "nbconvert_exporter": "python",
   "pygments_lexer": "ipython3",
   "version": "3.12.0"
  }
 },
 "nbformat": 4,
 "nbformat_minor": 5
}
