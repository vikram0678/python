{
 "cells": [
  {
   "cell_type": "markdown",
   "id": "4c5f60d7",
   "metadata": {},
   "source": [
    "## "
   ]
  },
  {
   "cell_type": "markdown",
   "id": "5d824a10",
   "metadata": {},
   "source": [
    "## introduction to lists\n",
    "* lists are ordered, multable collections of items. \n",
    "* they cann contain items of different data types\n",
    "\n",
    "\n",
    "\n",
    "video outline:\n",
    "1. introduction to lists\n",
    "2. creating lists\n",
    "3. accessing list elements\n",
    "4. modifying list elements\n",
    "5. list methods\n",
    "6. list slicing\n",
    "7. nested lists\n",
    "8. list comprehensions\n",
    "9. nested lists\n",
    "10. practical examples\n",
    "\n"
   ]
  },
  {
   "cell_type": "code",
   "execution_count": 2,
   "metadata": {},
   "outputs": [
    {
     "data": {
      "text/plain": [
       "list"
      ]
     },
     "execution_count": 2,
     "metadata": {},
     "output_type": "execute_result"
    }
   ],
   "source": [
    "ls=[]\n",
    "type(ls)"
   ]
  },
  {
   "cell_type": "code",
   "execution_count": 4,
   "id": "ec492d04",
   "metadata": {},
   "outputs": [
    {
     "data": {
      "text/plain": [
       "['bob', ' alice', 'mike']"
      ]
     },
     "execution_count": 4,
     "metadata": {},
     "output_type": "execute_result"
    }
   ],
   "source": [
    "names=['bob', ' alice', 'mike']\n",
    "names"
   ]
  },
  {
   "cell_type": "code",
   "execution_count": 6,
   "id": "b163cfbf",
   "metadata": {},
   "outputs": [
    {
     "data": {
      "text/plain": [
       "[1, 'hello', 2.4]"
      ]
     },
     "execution_count": 6,
     "metadata": {},
     "output_type": "execute_result"
    }
   ],
   "source": [
    "mixed_ls=[1,'hello',2.4]\n",
    "mixed_ls"
   ]
  },
  {
   "cell_type": "code",
   "execution_count": 9,
   "id": "8cf2bc8c",
   "metadata": {},
   "outputs": [
    {
     "data": {
      "text/plain": [
       "' apple'"
      ]
     },
     "execution_count": 9,
     "metadata": {},
     "output_type": "execute_result"
    }
   ],
   "source": [
    "## accessign list elements\n",
    "\n",
    "fruits=[' apple', ' banana', ' cherry', ' kiwi']\n",
    "fruits[0]"
   ]
  },
  {
   "cell_type": "code",
   "execution_count": 16,
   "id": "08b61bc8",
   "metadata": {},
   "outputs": [
    {
     "data": {
      "text/plain": [
       "[' apple', 'watermellon', 'a', 't', 'e', 'r', 'm', 'e', 'l', 'l', 'o', 'n']"
      ]
     },
     "execution_count": 16,
     "metadata": {},
     "output_type": "execute_result"
    }
   ],
   "source": [
    "### modifying the list\n",
    "# fruits[1:]='watermellon'#output  [' apple', 'w', 'a', 't', 'e', 'r', 'm', 'e', 'l', 'l', 'o', 'n']\n",
    "fruits[1]='watermellon'\n",
    "fruits"
   ]
  },
  {
   "cell_type": "code",
   "execution_count": 31,
   "id": "5cae79b8",
   "metadata": {},
   "outputs": [
    {
     "data": {
      "text/plain": [
       "[' apple', ' banana', ' cherry', ' kiwi', 'orange']"
      ]
     },
     "execution_count": 31,
     "metadata": {},
     "output_type": "execute_result"
    }
   ],
   "source": [
    "fruits=[' apple', ' banana', ' cherry', ' kiwi']\n",
    "fruits.append(\"orange\")\n",
    "fruits"
   ]
  },
  {
   "cell_type": "code",
   "execution_count": 32,
   "id": "2f804ae0",
   "metadata": {},
   "outputs": [
    {
     "data": {
      "text/plain": [
       "[' apple', 'watermelon', ' banana', ' cherry', ' kiwi', 'orange']"
      ]
     },
     "execution_count": 32,
     "metadata": {},
     "output_type": "execute_result"
    }
   ],
   "source": [
    "fruits.insert(1,'watermelon')\n",
    "fruits"
   ]
  },
  {
   "cell_type": "code",
   "execution_count": 33,
   "id": "7bcf752d",
   "metadata": {},
   "outputs": [],
   "source": [
    "fruits.remove('watermelon')  # removing the first occurance of an item"
   ]
  },
  {
   "cell_type": "code",
   "execution_count": 34,
   "id": "b6ffd275",
   "metadata": {},
   "outputs": [
    {
     "data": {
      "text/plain": [
       "[' apple', ' banana', ' cherry', ' kiwi', 'orange']"
      ]
     },
     "execution_count": 34,
     "metadata": {},
     "output_type": "execute_result"
    }
   ],
   "source": [
    "fruits"
   ]
  },
  {
   "cell_type": "code",
   "execution_count": 35,
   "id": "cf38ed6d",
   "metadata": {},
   "outputs": [
    {
     "name": "stdout",
     "output_type": "stream",
     "text": [
      "orange\n",
      "[' apple', ' banana', ' cherry', ' kiwi']\n"
     ]
    }
   ],
   "source": [
    "popped_fruits=fruits.pop()\n",
    "print(popped_fruits)\n",
    "print(fruits)"
   ]
  },
  {
   "cell_type": "code",
   "execution_count": 38,
   "id": "77fa10a8",
   "metadata": {},
   "outputs": [
    {
     "name": "stdout",
     "output_type": "stream",
     "text": [
      "[' apple', ' banana', ' cherry', ' kiwi']\n"
     ]
    }
   ],
   "source": [
    "fruits.sort()\n",
    "print(fruits)"
   ]
  },
  {
   "cell_type": "code",
   "execution_count": 39,
   "id": "116900a0",
   "metadata": {},
   "outputs": [
    {
     "name": "stdout",
     "output_type": "stream",
     "text": [
      "[' kiwi', ' cherry', ' banana', ' apple']\n"
     ]
    }
   ],
   "source": [
    "fruits.reverse()\n",
    "print(fruits)"
   ]
  },
  {
   "cell_type": "code",
   "execution_count": null,
   "id": "36f2cf09",
   "metadata": {},
   "outputs": [],
   "source": []
  },
  {
   "cell_type": "code",
   "execution_count": 4,
   "id": "ee3138f9",
   "metadata": {},
   "outputs": [
    {
     "name": "stdout",
     "output_type": "stream",
     "text": [
      "[' apple', ' banana', ' cherry', ' kiwi']\n"
     ]
    }
   ],
   "source": [
    "# fruits.clear()\n",
    "# print(fruits)\n",
    "fruits=[' apple', ' banana', ' cherry', ' kiwi']\n",
    "print(fruits)"
   ]
  },
  {
   "cell_type": "code",
   "execution_count": 9,
   "id": "7188edfd",
   "metadata": {},
   "outputs": [
    {
     "name": "stdout",
     "output_type": "stream",
     "text": [
      "[3, 4, 5]\n",
      "[1, 2, 3, 4, 5]\n",
      "[6, 7, 8]\n",
      "[1, 3, 5, 7]\n",
      "[8, 7, 6, 5, 4, 3, 2, 1]\n"
     ]
    }
   ],
   "source": [
    "# slicing list\n",
    "\n",
    "numbers=[1,2,3,4,5,6,7,8]\n",
    "print(numbers[2:5]) # prints [3, 4, 5]\n",
    "print(numbers[:5])\n",
    "print(numbers[5:])\n",
    "print(numbers[::2])\n",
    "print(numbers[::-1])"
   ]
  },
  {
   "cell_type": "code",
   "execution_count": 11,
   "id": "6491c6ab",
   "metadata": {},
   "outputs": [
    {
     "name": "stdout",
     "output_type": "stream",
     "text": [
      "1\n",
      "2\n",
      "3\n",
      "4\n",
      "5\n",
      "6\n",
      "7\n",
      "8\n"
     ]
    }
   ],
   "source": [
    "# iterate over list \n",
    "for num in numbers:\n",
    "    print(num)"
   ]
  },
  {
   "cell_type": "code",
   "execution_count": 12,
   "id": "a63cba8a",
   "metadata": {},
   "outputs": [
    {
     "name": "stdout",
     "output_type": "stream",
     "text": [
      "Index: 0, Number: 1\n",
      "Index: 1, Number: 2\n",
      "Index: 2, Number: 3\n",
      "Index: 3, Number: 4\n",
      "Index: 4, Number: 5\n",
      "Index: 5, Number: 6\n",
      "Index: 6, Number: 7\n",
      "Index: 7, Number: 8\n"
     ]
    }
   ],
   "source": [
    "# iterating with index \n",
    "for index,number in enumerate(numbers):\n",
    "    print(f\"Index: {index}, Number: {number}\")  # prints index and number"
   ]
  },
  {
   "cell_type": "code",
   "execution_count": 13,
   "id": "04571e8f",
   "metadata": {},
   "outputs": [
    {
     "name": "stdout",
     "output_type": "stream",
     "text": [
      "[0, 1, 4, 9, 16, 25, 36, 49, 64, 81]\n"
     ]
    }
   ],
   "source": [
    "# list comprehension \n",
    "ls=[]\n",
    "for x in range(10):\n",
    "    ls.append(x**2)\n",
    "\n",
    "print(ls)"
   ]
  },
  {
   "cell_type": "code",
   "execution_count": 14,
   "id": "d617cae3",
   "metadata": {},
   "outputs": [
    {
     "data": {
      "text/plain": [
       "[0, 1, 4, 9, 16, 25, 36, 49, 64, 81]"
      ]
     },
     "execution_count": 14,
     "metadata": {},
     "output_type": "execute_result"
    }
   ],
   "source": [
    "[y**2 for y in range(10)]"
   ]
  },
  {
   "cell_type": "markdown",
   "id": "13dd07b9",
   "metadata": {},
   "source": [
    "##### List comprehension\n",
    "basic syntax [expresion for item in iterable]\n",
    "\n",
    "with conditional logic [expression for item in iterable if condition]\n",
    "\n",
    "nested list comprehension [expression for item1 in iterable1 for item2 in iterable2 ]\n"
   ]
  },
  {
   "cell_type": "code",
   "execution_count": 16,
   "id": "8c1d7e4f",
   "metadata": {},
   "outputs": [
    {
     "name": "stdout",
     "output_type": "stream",
     "text": [
      "[0, 2, 4, 6, 8, 10, 12, 14, 16, 18]\n"
     ]
    }
   ],
   "source": [
    "##### list comprehension\n",
    "\n",
    "\n",
    "sqr=[num*2 for num in range(10)]\n",
    "\n",
    "print(sqr)"
   ]
  },
  {
   "cell_type": "code",
   "execution_count": 18,
   "id": "7801a137",
   "metadata": {},
   "outputs": [
    {
     "name": "stdout",
     "output_type": "stream",
     "text": [
      "[0, 2, 4, 6, 8]\n"
     ]
    }
   ],
   "source": [
    "## list comprehesion with condition\n",
    "\n",
    "ls=[]\n",
    "for i in range(10):\n",
    "    if i % 2 == 0:\n",
    "        ls.append(i)\n",
    "\n",
    "print(ls)"
   ]
  },
  {
   "cell_type": "code",
   "execution_count": 19,
   "id": "e7249644",
   "metadata": {},
   "outputs": [
    {
     "data": {
      "text/plain": [
       "[0, 2, 4, 6, 8]"
      ]
     },
     "execution_count": 19,
     "metadata": {},
     "output_type": "execute_result"
    }
   ],
   "source": [
    "[num for num in range(10) if num%2 ==0]"
   ]
  },
  {
   "cell_type": "code",
   "execution_count": 20,
   "id": "9771f441",
   "metadata": {},
   "outputs": [
    {
     "name": "stdout",
     "output_type": "stream",
     "text": [
      "[[1, 'a'], [1, 'b'], [1, 'c'], [1, 'd'], [2, 'a'], [2, 'b'], [2, 'c'], [2, 'd'], [3, 'a'], [3, 'b'], [3, 'c'], [3, 'd'], [4, 'a'], [4, 'b'], [4, 'c'], [4, 'd']]\n"
     ]
    }
   ],
   "source": [
    "## nested list comprehension\n",
    "\n",
    "\n",
    "ls=[1,2,3,4]\n",
    "ls2=['a','b','c','d']\n",
    "\n",
    "pair=[[i,j] for i in ls for j in ls2]\n",
    "\n",
    "print(pair)"
   ]
  },
  {
   "cell_type": "code",
   "execution_count": 22,
   "id": "690d1cbc",
   "metadata": {},
   "outputs": [
    {
     "name": "stdout",
     "output_type": "stream",
     "text": [
      "[5, 6, 6]\n"
     ]
    }
   ],
   "source": [
    "## List comprehension with functino calls\n",
    "\n",
    "words =['hello',' world', 'python']\n",
    "lengths=[len(word) for word in words]\n",
    "print(lengths)"
   ]
  },
  {
   "cell_type": "markdown",
   "id": "c5dafcfa",
   "metadata": {},
   "source": [
    "## conclusion\n",
    "\n",
    "list comprehension are a powerful and concise way to create lists in python. They are syntatically compact and can replace more verbose looping constructs. Understanding the Syntax of list comprehensions will help you write cleaner and more efficient python code."
   ]
  },
  {
   "cell_type": "markdown",
   "id": "d66172f5",
   "metadata": {},
   "source": []
  },
  {
   "cell_type": "code",
   "execution_count": 7,
   "id": "71e1ae35",
   "metadata": {},
   "outputs": [
    {
     "name": "stdout",
     "output_type": "stream",
     "text": [
      "2\n",
      "[2, 2, '_', '_']\n"
     ]
    }
   ],
   "source": [
    "nums = [3,2,2,3]#list(map(int, input().split()))\n",
    "val = 3#int(input())\n",
    "x = 0\n",
    "length = len(nums)\n",
    "for i in range(0, length):\n",
    "    if nums[i]!= val:\n",
    "        nums[x] = nums[i]\n",
    "        x+=1\n",
    "    \n",
    "print(x)\n",
    "nums[x:]=[\"_\"]*(len(nums)-len(nums[:x]))\n",
    "print(nums)\n"
   ]
  },
  {
   "cell_type": "code",
   "execution_count": null,
   "id": "8de75a56",
   "metadata": {},
   "outputs": [],
   "source": []
  }
 ],
 "metadata": {
  "kernelspec": {
   "display_name": "venv",
   "language": "python",
   "name": "python3"
  },
  "language_info": {
   "codemirror_mode": {
    "name": "ipython",
    "version": 3
   },
   "file_extension": ".py",
   "mimetype": "text/x-python",
   "name": "python",
   "nbconvert_exporter": "python",
   "pygments_lexer": "ipython3",
   "version": "3.12.0"
  }
 },
 "nbformat": 4,
 "nbformat_minor": 5
}
