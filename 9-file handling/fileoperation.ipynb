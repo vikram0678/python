{
 "cells": [
  {
   "cell_type": "markdown",
   "id": "c5097940",
   "metadata": {},
   "source": [
    "### File Operations - Read And Write Files\n",
    "\n",
    "File handling is a crucial part of any programming  language. Python provides build-in functions and methods to read from and write to files, both text and binary. This lesson will cover the basics of file handling, including reading and writing text files and binary files.\n"
   ]
  },
  {
   "cell_type": "code",
   "execution_count": 1,
   "id": "94ab50d7",
   "metadata": {},
   "outputs": [
    {
     "name": "stdout",
     "output_type": "stream",
     "text": [
      "hello world\n",
      " this is a new line\n",
      "  \n"
     ]
    }
   ],
   "source": [
    "### read a whole File\n",
    "\n",
    "with open('example.txt', 'r') as file:\n",
    "    content = file.read()\n",
    "    print(content)"
   ]
  },
  {
   "cell_type": "code",
   "execution_count": 2,
   "id": "04f7bdd7",
   "metadata": {},
   "outputs": [
    {
     "name": "stdout",
     "output_type": "stream",
     "text": [
      "hello world\n",
      " this is a new line\n",
      "  \n"
     ]
    }
   ],
   "source": [
    "### read a whole File\n",
    "\n",
    "with open('example.txt', 'r') as file:\n",
    "    content = file.read()\n",
    "    print(content)"
   ]
  },
  {
   "cell_type": "code",
   "execution_count": 3,
   "id": "7d9ec315",
   "metadata": {},
   "outputs": [
    {
     "name": "stdout",
     "output_type": "stream",
     "text": [
      "hello world\n",
      "this is a new line\n",
      "\n"
     ]
    }
   ],
   "source": [
    "### Read a file line by line\n",
    "\n",
    "with open('example.txt', 'r')as file:\n",
    "    for line in file:\n",
    "        print(line.strip())  ##strip() removes the newline character"
   ]
  },
  {
   "cell_type": "code",
   "execution_count": 4,
   "id": "5d5c1bd9",
   "metadata": {},
   "outputs": [],
   "source": [
    "## writing a file(overwriting)\n",
    "\n",
    "with open('example.txt', 'w') as file:\n",
    "    file.write(\"This is  a new line.\\n\")\n",
    "    file.write(\" hello world\\n\")\n",
    "    file.write(\" this is a new line.\")"
   ]
  },
  {
   "cell_type": "code",
   "execution_count": 5,
   "id": "631fab50",
   "metadata": {},
   "outputs": [],
   "source": [
    "## write a file(without overwriting)\n",
    "\n",
    "with open('example.txt', 'a') as file:\n",
    "    file.write(\"\\nAppending operation taking place\")\n",
    "    file.write(\"\\nAppending another line\")\n",
    "    file.write(\"\\nAppending another line\")\n"
   ]
  },
  {
   "cell_type": "code",
   "execution_count": 6,
   "id": "77862ccb",
   "metadata": {},
   "outputs": [],
   "source": [
    "## writing a list of lines to a file\n",
    "\n",
    "lines = [\"First line\\n\", \"Second line\\n\", \"Third line\\n\"]\n",
    "with open('example.txt', 'a') as file:\n",
    "    file.writelines(lines)"
   ]
  },
  {
   "cell_type": "code",
   "execution_count": 7,
   "id": "6f21cfa2",
   "metadata": {},
   "outputs": [],
   "source": [
    "## Binary Files(in binary files we used to keep update bites)\n",
    "\n",
    "## write to a binary file\n",
    "data = b'\\x00\\x01\\x02\\x03\\x04'\n",
    "with open('example.bin', 'wb') as file:\n",
    "    file.write(data)\n"
   ]
  },
  {
   "cell_type": "code",
   "execution_count": 8,
   "id": "c8815cf0",
   "metadata": {},
   "outputs": [
    {
     "name": "stdout",
     "output_type": "stream",
     "text": [
      "b'\\x00\\x01\\x02\\x03\\x04'\n"
     ]
    }
   ],
   "source": [
    "data = b'\\x00\\x01\\x02\\x03\\x04'\n",
    "with open('example.bin', 'rb') as file:\n",
    "    # file.write(data)\n",
    "    content = file.read()\n",
    "    print(content)"
   ]
  },
  {
   "cell_type": "code",
   "execution_count": 9,
   "id": "8599a0ec",
   "metadata": {},
   "outputs": [],
   "source": [
    "### Read the content from the source text file and write to a destination text file\n",
    "with open('example.txt', 'r') as source_file:\n",
    "    content = source_file.read()\n",
    "\n",
    "with open('destination.txt', 'w') as destination_file:\n",
    "    destination_file.write(content)"
   ]
  },
  {
   "cell_type": "code",
   "execution_count": 10,
   "id": "2b290ed7",
   "metadata": {},
   "outputs": [
    {
     "name": "stdout",
     "output_type": "stream",
     "text": [
      "no of lines::  21\n",
      "wordcount:   15\n",
      "char count ::  21\n"
     ]
    }
   ],
   "source": [
    "## read a text file and count the number of lines, words and characters\n",
    "\n",
    "with open('example.txt', 'r')as file:\n",
    "    lines = file.readline()\n",
    "    print(\"no of lines:: \",len(lines))\n",
    "    word_count = sum(len(line.split()) for line in lines)\n",
    "    print(\"wordcount:  \",word_count)\n",
    "    char_count = sum(len(line) for line in lines)\n",
    "    print(\"char count :: \", char_count)\n"
   ]
  },
  {
   "cell_type": "markdown",
   "id": "16110126",
   "metadata": {},
   "source": [
    "The w+ mode in python is used to open a file for both reading and writing. If the file does not exist, it will be created. If the file exists, its content is truncated(i.e., the file is overwritten)"
   ]
  },
  {
   "cell_type": "code",
   "execution_count": 1,
   "id": "37671ce6",
   "metadata": {},
   "outputs": [
    {
     "name": "stdout",
     "output_type": "stream",
     "text": [
      "hello world\n",
      " this is a new line\n",
      "\n"
     ]
    }
   ],
   "source": [
    "### writing and then reading a file\n",
    "\n",
    "with open('example.txt', 'w+') as file:\n",
    "    file.write(\"hello world\\n\")\n",
    "    file.write(\" this is a new line\\n\")\n",
    "\n",
    "    ## move the file cursor to the beginning\n",
    "\n",
    "    file.seek(0) ## file moves to 0th index\n",
    "\n",
    "    ## Read the content of the file\n",
    "    content = file.read()\n",
    "    print(content)\n"
   ]
  },
  {
   "cell_type": "markdown",
   "id": "d8f24829",
   "metadata": {},
   "source": [
    "### 6.2 file path"
   ]
  },
  {
   "cell_type": "code",
   "execution_count": 3,
   "id": "e7bf1357",
   "metadata": {},
   "outputs": [
    {
     "name": "stdout",
     "output_type": "stream",
     "text": [
      " directory 'package' created successfully.\n"
     ]
    }
   ],
   "source": [
    "import os\n",
    "new_directory = \"package\"\n",
    "\n",
    "os.mkdir(new_directory)\n",
    "print(f\" directory '{new_directory}' created successfully.\")"
   ]
  },
  {
   "cell_type": "code",
   "execution_count": 5,
   "id": "10fa42a3",
   "metadata": {},
   "outputs": [
    {
     "data": {
      "text/plain": [
       "['destination.txt',\n",
       " 'example.bin',\n",
       " 'example.txt',\n",
       " 'fileoperation.ipynb',\n",
       " 'package']"
      ]
     },
     "execution_count": 5,
     "metadata": {},
     "output_type": "execute_result"
    }
   ],
   "source": [
    "## Listing files and directories\n",
    "\n",
    "items = os.listdir('.')\n",
    "items"
   ]
  },
  {
   "cell_type": "code",
   "execution_count": 6,
   "id": "c443f42f",
   "metadata": {},
   "outputs": [
    {
     "name": "stdout",
     "output_type": "stream",
     "text": [
      "folder\\example.txt\n"
     ]
    }
   ],
   "source": [
    "### joining paths\n",
    "import os\n",
    "\n",
    "dir_name = \"folder\"\n",
    "file_name = \"example.txt\"\n",
    "full_path = os.path.join(dir_name, file_name)\n",
    "print(full_path)"
   ]
  },
  {
   "cell_type": "code",
   "execution_count": 10,
   "id": "3e0633db",
   "metadata": {},
   "outputs": [
    {
     "name": "stdout",
     "output_type": "stream",
     "text": [
      "The path ' example1.txt' does not exist.\n"
     ]
    }
   ],
   "source": [
    "path = \" example1.txt\"\n",
    "if os.path.exists(path):\n",
    "    print(f\"The path '{path}' exists.\")\n",
    "else:\n",
    "    print(f\"The path '{path}' does not exist.\")"
   ]
  },
  {
   "cell_type": "code",
   "execution_count": 11,
   "id": "05173098",
   "metadata": {},
   "outputs": [
    {
     "name": "stdout",
     "output_type": "stream",
     "text": [
      "The path 'example.txt' is a file. \n"
     ]
    }
   ],
   "source": [
    "# Checking if a path is a file or directory\n",
    "\n",
    "\n",
    "import os\n",
    "\n",
    "path = \"example.txt\"\n",
    "if os.path.isfile(path):\n",
    "    print(f\"The path '{path}' is a file. \")\n",
    "elif os.path.isdir(path):\n",
    "    print(f\"The path '{path}' is a directory.\")\n",
    "else:\n",
    "    print(f\"The path '{path}' does not exist.\")"
   ]
  },
  {
   "cell_type": "code",
   "execution_count": 13,
   "id": "d9d2c15f",
   "metadata": {},
   "outputs": [
    {
     "name": "stdout",
     "output_type": "stream",
     "text": [
      "c:\\rsm\\python\\9-file handling\\example.txt\n"
     ]
    }
   ],
   "source": [
    "### getting the absolute path \n",
    "\n",
    "relative_path = \"example.txt\"\n",
    "absolute_path = os.path.abspath(relative_path)\n",
    "print(absolute_path)"
   ]
  },
  {
   "cell_type": "code",
   "execution_count": null,
   "id": "5eaa102b",
   "metadata": {},
   "outputs": [],
   "source": []
  }
 ],
 "metadata": {
  "kernelspec": {
   "display_name": "venv",
   "language": "python",
   "name": "python3"
  },
  "language_info": {
   "codemirror_mode": {
    "name": "ipython",
    "version": 3
   },
   "file_extension": ".py",
   "mimetype": "text/x-python",
   "name": "python",
   "nbconvert_exporter": "python",
   "pygments_lexer": "ipython3",
   "version": "3.12.0"
  }
 },
 "nbformat": 4,
 "nbformat_minor": 5
}
