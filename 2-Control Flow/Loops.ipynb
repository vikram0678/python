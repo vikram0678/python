{
 "cells": [
  {
   "cell_type": "markdown",
   "id": "acf3f8ff",
   "metadata": {},
   "source": [
    "loops\n",
    "\n",
    "1. introduction to loops\n",
    "2. for loops\n",
    "    * iterating over a range\n",
    "    * iterating over a string\n",
    "3. while loops\n",
    "4. loop control statments\n",
    "    * break\n",
    "    * continue\n",
    "    * pass\n",
    "5. nested loops\n",
    "6. examples"
   ]
  },
  {
   "cell_type": "markdown",
   "id": "9300f223",
   "metadata": {},
   "source": []
  },
  {
   "cell_type": "code",
   "execution_count": 4,
   "id": "25e8dc98",
   "metadata": {},
   "outputs": [
    {
     "name": "stdout",
     "output_type": "stream",
     "text": [
      "0\n",
      "1\n",
      "2\n",
      "3\n",
      "4\n"
     ]
    }
   ],
   "source": [
    "# for loop\n",
    "for i in range(5):\n",
    "    print(i)"
   ]
  },
  {
   "cell_type": "code",
   "execution_count": 5,
   "id": "6b166499",
   "metadata": {},
   "outputs": [
    {
     "name": "stdout",
     "output_type": "stream",
     "text": [
      "1 2 3 4 5 "
     ]
    }
   ],
   "source": [
    "for i in range(1, 6):\n",
    "    print(i,end=\" \")"
   ]
  },
  {
   "cell_type": "code",
   "execution_count": 9,
   "id": "20b14826",
   "metadata": {},
   "outputs": [
    {
     "name": "stdout",
     "output_type": "stream",
     "text": [
      "10 8 6 4 2 "
     ]
    }
   ],
   "source": [
    "for i in range(10,1,-2):\n",
    "    print(i, end=\" \")"
   ]
  },
  {
   "cell_type": "code",
   "execution_count": 10,
   "id": "93bd6f4e",
   "metadata": {},
   "outputs": [
    {
     "name": "stdout",
     "output_type": "stream",
     "text": [
      "v_i_c_k_y_ _v_i_k_r_a_m_"
     ]
    }
   ],
   "source": [
    "## string\n",
    "str='vicky vikram'\n",
    "for i in str:\n",
    "    print(i, end=\"_\")"
   ]
  },
  {
   "cell_type": "code",
   "execution_count": 12,
   "id": "0c650443",
   "metadata": {},
   "outputs": [
    {
     "name": "stdout",
     "output_type": "stream",
     "text": [
      "0_1_2_3_4_"
     ]
    }
   ],
   "source": [
    "#while loop\n",
    "\n",
    "## the while loop continues to execute as long as the condition is True\n",
    "\n",
    "count=0\n",
    "while count<5:\n",
    "    print(count,end=\"_\")\n",
    "    count+=1"
   ]
  },
  {
   "cell_type": "code",
   "execution_count": 13,
   "id": "f87436b7",
   "metadata": {},
   "outputs": [
    {
     "name": "stdout",
     "output_type": "stream",
     "text": [
      "0_1_4_9_16_"
     ]
    }
   ],
   "source": [
    "#loop control statement\n",
    "\n",
    "## break\n",
    "## the break statement exists the loop permanently\n",
    "\n",
    "## break statement\n",
    "\n",
    "for i in range(10):\n",
    "    if i == 5:\n",
    "        break\n",
    "    print(i**2,end=\"_\")"
   ]
  },
  {
   "cell_type": "code",
   "execution_count": 14,
   "id": "e46ad099",
   "metadata": {},
   "outputs": [
    {
     "name": "stdout",
     "output_type": "stream",
     "text": [
      "1~~3~~5~~7~~9~~"
     ]
    }
   ],
   "source": [
    "# continue\n",
    "# the continue statement skips the curernt iteration and continues with the next.\n",
    "for i in range(10):\n",
    "    if i%2==0:\n",
    "        continue\n",
    "    print(i,end=\"~~\")"
   ]
  },
  {
   "cell_type": "code",
   "execution_count": 15,
   "id": "6fd34610",
   "metadata": {},
   "outputs": [
    {
     "name": "stdout",
     "output_type": "stream",
     "text": [
      "0\n",
      "1\n",
      "2\n",
      "3\n",
      "4\n"
     ]
    }
   ],
   "source": [
    "#pass\n",
    "#  teh pass statement is a null operator it does nothing\n",
    "\n",
    "for i in range(5):\n",
    "    if i==3:\n",
    "        pass\n",
    "    print(i)"
   ]
  },
  {
   "cell_type": "code",
   "execution_count": 17,
   "id": "d2bf9d9b",
   "metadata": {},
   "outputs": [
    {
     "name": "stdout",
     "output_type": "stream",
     "text": [
      "i:0__and__j:0\n",
      "i:0__and__j:1\n",
      "i:0__and__j:2\n",
      "i:1__and__j:0\n",
      "i:1__and__j:1\n",
      "i:1__and__j:2\n",
      "i:2__and__j:0\n",
      "i:2__and__j:1\n",
      "i:2__and__j:2\n"
     ]
    }
   ],
   "source": [
    "## nested loops\n",
    "## a loop inside a loop\n",
    "for i in range(3):\n",
    "    for j in range(3):\n",
    "        print(f\"i:{i}__and__j:{j}\")"
   ]
  },
  {
   "cell_type": "code",
   "execution_count": 18,
   "id": "875716cd",
   "metadata": {},
   "outputs": [
    {
     "name": "stdout",
     "output_type": "stream",
     "text": [
      "sum:_ 55\n"
     ]
    }
   ],
   "source": [
    "## example . calculate the sum of first n natural numbers using a while and for llop\n",
    "\n",
    "## while loop\n",
    "\n",
    "n=10\n",
    "sum=0\n",
    "i=1\n",
    "while i<=10:\n",
    "    sum = sum + i\n",
    "    i = i + 1\n",
    "print(\"sum:_\",sum)  # output: 55"
   ]
  },
  {
   "cell_type": "code",
   "execution_count": 21,
   "id": "7f0ae27c",
   "metadata": {},
   "outputs": [
    {
     "name": "stdout",
     "output_type": "stream",
     "text": [
      "for loop sum__: 55\n"
     ]
    }
   ],
   "source": [
    "sum=0\n",
    "for i in range(1, 11):\n",
    "    sum+=i\n",
    "print(\"for loop sum__:\",sum)"
   ]
  },
  {
   "cell_type": "code",
   "execution_count": 23,
   "id": "489a9c3a",
   "metadata": {},
   "outputs": [
    {
     "name": "stdout",
     "output_type": "stream",
     "text": [
      "2_3_5_7_11_13_17_19_23_29_31_37_41_43_47_53_59_61_67_71_73_79_83_89_97_"
     ]
    }
   ],
   "source": [
    "## prrime upto 100\n",
    "for num in range(1,101):\n",
    "    if num >1:\n",
    "        for i in range(2, num):\n",
    "            if num%i==0:\n",
    "                break\n",
    "        else:\n",
    "            print(num,end=\"_\")"
   ]
  },
  {
   "cell_type": "markdown",
   "id": "aa43e187",
   "metadata": {},
   "source": [
    "# conclusion\n",
    "@ loops are powerful constructs in a python that allows you to execute a block of code multiple times. by understanding and using for and while loops, along with loop control statements like break, continue, and pass, you can handle a wide range of programming tasks efficiently"
   ]
  },
  {
   "cell_type": "code",
   "execution_count": null,
   "id": "423aa219",
   "metadata": {},
   "outputs": [],
   "source": []
  }
 ],
 "metadata": {
  "kernelspec": {
   "display_name": "venv",
   "language": "python",
   "name": "python3"
  },
  "language_info": {
   "codemirror_mode": {
    "name": "ipython",
    "version": 3
   },
   "file_extension": ".py",
   "mimetype": "text/x-python",
   "name": "python",
   "nbconvert_exporter": "python",
   "pygments_lexer": "ipython3",
   "version": "3.12.0"
  }
 },
 "nbformat": 4,
 "nbformat_minor": 5
}
